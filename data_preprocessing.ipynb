{
 "cells": [
  {
   "cell_type": "code",
   "execution_count": 1,
   "metadata": {},
   "outputs": [],
   "source": [
    "import pandas as pd\n",
    "import numpy as np\n",
    "import seaborn as sns\n",
    "import re"
   ]
  },
  {
   "cell_type": "code",
   "execution_count": 2,
   "metadata": {},
   "outputs": [],
   "source": [
    "df1 = pd.read_csv('data/cleaned_data/cleaned_data1.csv')\n",
    "df2 = pd.read_csv('data/cleaned_data/cleaned_data2.csv')"
   ]
  },
  {
   "cell_type": "code",
   "execution_count": 3,
   "metadata": {},
   "outputs": [
    {
     "data": {
      "text/html": [
       "<div>\n",
       "<style scoped>\n",
       "    .dataframe tbody tr th:only-of-type {\n",
       "        vertical-align: middle;\n",
       "    }\n",
       "\n",
       "    .dataframe tbody tr th {\n",
       "        vertical-align: top;\n",
       "    }\n",
       "\n",
       "    .dataframe thead th {\n",
       "        text-align: right;\n",
       "    }\n",
       "</style>\n",
       "<table border=\"1\" class=\"dataframe\">\n",
       "  <thead>\n",
       "    <tr style=\"text-align: right;\">\n",
       "      <th></th>\n",
       "      <th>title</th>\n",
       "      <th>text</th>\n",
       "      <th>Label</th>\n",
       "    </tr>\n",
       "  </thead>\n",
       "  <tbody>\n",
       "    <tr>\n",
       "      <th>0</th>\n",
       "      <td>Four ways Bob Corker skewered Donald Trump</td>\n",
       "      <td>Image copyright Getty Images\\nOn Sunday mornin...</td>\n",
       "      <td>1</td>\n",
       "    </tr>\n",
       "    <tr>\n",
       "      <th>1</th>\n",
       "      <td>Linklater's war veteran comedy speaks to moder...</td>\n",
       "      <td>LONDON (Reuters) - “Last Flag Flying”, a comed...</td>\n",
       "      <td>1</td>\n",
       "    </tr>\n",
       "    <tr>\n",
       "      <th>2</th>\n",
       "      <td>Trump’s Fight With Corker Jeopardizes His Legi...</td>\n",
       "      <td>The feud broke into public view last week when...</td>\n",
       "      <td>1</td>\n",
       "    </tr>\n",
       "    <tr>\n",
       "      <th>3</th>\n",
       "      <td>Egypt's Cheiron wins tie-up with Pemex for Mex...</td>\n",
       "      <td>MEXICO CITY (Reuters) - Egypt’s Cheiron Holdin...</td>\n",
       "      <td>1</td>\n",
       "    </tr>\n",
       "    <tr>\n",
       "      <th>4</th>\n",
       "      <td>Jason Aldean opens 'SNL' with Vegas tribute</td>\n",
       "      <td>Country singer Jason Aldean, who was performin...</td>\n",
       "      <td>1</td>\n",
       "    </tr>\n",
       "  </tbody>\n",
       "</table>\n",
       "</div>"
      ],
      "text/plain": [
       "                                               title  \\\n",
       "0         Four ways Bob Corker skewered Donald Trump   \n",
       "1  Linklater's war veteran comedy speaks to moder...   \n",
       "2  Trump’s Fight With Corker Jeopardizes His Legi...   \n",
       "3  Egypt's Cheiron wins tie-up with Pemex for Mex...   \n",
       "4        Jason Aldean opens 'SNL' with Vegas tribute   \n",
       "\n",
       "                                                text  Label  \n",
       "0  Image copyright Getty Images\\nOn Sunday mornin...      1  \n",
       "1  LONDON (Reuters) - “Last Flag Flying”, a comed...      1  \n",
       "2  The feud broke into public view last week when...      1  \n",
       "3  MEXICO CITY (Reuters) - Egypt’s Cheiron Holdin...      1  \n",
       "4  Country singer Jason Aldean, who was performin...      1  "
      ]
     },
     "execution_count": 3,
     "metadata": {},
     "output_type": "execute_result"
    }
   ],
   "source": [
    "df1.head()"
   ]
  },
  {
   "cell_type": "code",
   "execution_count": 4,
   "metadata": {},
   "outputs": [
    {
     "data": {
      "text/html": [
       "<div>\n",
       "<style scoped>\n",
       "    .dataframe tbody tr th:only-of-type {\n",
       "        vertical-align: middle;\n",
       "    }\n",
       "\n",
       "    .dataframe tbody tr th {\n",
       "        vertical-align: top;\n",
       "    }\n",
       "\n",
       "    .dataframe thead th {\n",
       "        text-align: right;\n",
       "    }\n",
       "</style>\n",
       "<table border=\"1\" class=\"dataframe\">\n",
       "  <thead>\n",
       "    <tr style=\"text-align: right;\">\n",
       "      <th></th>\n",
       "      <th>title</th>\n",
       "      <th>text</th>\n",
       "      <th>Label</th>\n",
       "    </tr>\n",
       "  </thead>\n",
       "  <tbody>\n",
       "    <tr>\n",
       "      <th>0</th>\n",
       "      <td>UNIV Of WI Chancellor Contacts Police After No...</td>\n",
       "      <td>Is anyone else concerned that the Left was abl...</td>\n",
       "      <td>0</td>\n",
       "    </tr>\n",
       "    <tr>\n",
       "      <th>1</th>\n",
       "      <td>While We Were Sleeping, Trump Declared Civil War</td>\n",
       "      <td>I woke up this morning completely unfazed over...</td>\n",
       "      <td>0</td>\n",
       "    </tr>\n",
       "    <tr>\n",
       "      <th>2</th>\n",
       "      <td>BREAKING: GA, KY, WV Confirm They Suspect Obam...</td>\n",
       "      <td>Georgia s secretary of state has claimed the D...</td>\n",
       "      <td>0</td>\n",
       "    </tr>\n",
       "    <tr>\n",
       "      <th>3</th>\n",
       "      <td>U.S. Air Force Advertises Martin Luther King ...</td>\n",
       "      <td>Put this one under  Shit You Just Can t Make U...</td>\n",
       "      <td>0</td>\n",
       "    </tr>\n",
       "    <tr>\n",
       "      <th>4</th>\n",
       "      <td>The Walls Close In On Trump As His Disgraced ...</td>\n",
       "      <td>Donald Trump s scandal-ridden, chaotic White H...</td>\n",
       "      <td>0</td>\n",
       "    </tr>\n",
       "  </tbody>\n",
       "</table>\n",
       "</div>"
      ],
      "text/plain": [
       "                                               title  \\\n",
       "0  UNIV Of WI Chancellor Contacts Police After No...   \n",
       "1   While We Were Sleeping, Trump Declared Civil War   \n",
       "2  BREAKING: GA, KY, WV Confirm They Suspect Obam...   \n",
       "3   U.S. Air Force Advertises Martin Luther King ...   \n",
       "4   The Walls Close In On Trump As His Disgraced ...   \n",
       "\n",
       "                                                text  Label  \n",
       "0  Is anyone else concerned that the Left was abl...      0  \n",
       "1  I woke up this morning completely unfazed over...      0  \n",
       "2  Georgia s secretary of state has claimed the D...      0  \n",
       "3  Put this one under  Shit You Just Can t Make U...      0  \n",
       "4  Donald Trump s scandal-ridden, chaotic White H...      0  "
      ]
     },
     "execution_count": 4,
     "metadata": {},
     "output_type": "execute_result"
    }
   ],
   "source": [
    "df2.head()"
   ]
  },
  {
   "cell_type": "code",
   "execution_count": 5,
   "metadata": {},
   "outputs": [],
   "source": [
    "# concatinating\n",
    "df3 = pd.concat([df1,df2]).reset_index(drop = True)"
   ]
  },
  {
   "cell_type": "code",
   "execution_count": 6,
   "metadata": {},
   "outputs": [
    {
     "data": {
      "text/html": [
       "<div>\n",
       "<style scoped>\n",
       "    .dataframe tbody tr th:only-of-type {\n",
       "        vertical-align: middle;\n",
       "    }\n",
       "\n",
       "    .dataframe tbody tr th {\n",
       "        vertical-align: top;\n",
       "    }\n",
       "\n",
       "    .dataframe thead th {\n",
       "        text-align: right;\n",
       "    }\n",
       "</style>\n",
       "<table border=\"1\" class=\"dataframe\">\n",
       "  <thead>\n",
       "    <tr style=\"text-align: right;\">\n",
       "      <th></th>\n",
       "      <th>title</th>\n",
       "      <th>text</th>\n",
       "      <th>Label</th>\n",
       "    </tr>\n",
       "  </thead>\n",
       "  <tbody>\n",
       "    <tr>\n",
       "      <th>0</th>\n",
       "      <td>U.S. vice president to visit South Korea, Japa...</td>\n",
       "      <td>U.S. Vice President Mike Pence will travel to...</td>\n",
       "      <td>1</td>\n",
       "    </tr>\n",
       "    <tr>\n",
       "      <th>1</th>\n",
       "      <td>U.S. warns of sanctions on any country trading...</td>\n",
       "      <td>U.S. Treasury Secretary Steve Mnuchin said on...</td>\n",
       "      <td>1</td>\n",
       "    </tr>\n",
       "    <tr>\n",
       "      <th>2</th>\n",
       "      <td>BREAKING: TRUMP CANCELS Order For New Air Forc...</td>\n",
       "      <td>The entire cost of the program, including deve...</td>\n",
       "      <td>0</td>\n",
       "    </tr>\n",
       "    <tr>\n",
       "      <th>3</th>\n",
       "      <td>Among White House hopefuls, Trump least likely...</td>\n",
       "      <td>The millions of Twitter users following Donal...</td>\n",
       "      <td>1</td>\n",
       "    </tr>\n",
       "    <tr>\n",
       "      <th>4</th>\n",
       "      <td>Paris exhibition charts Picasso's 'year of won...</td>\n",
       "      <td>PARIS (Reuters) - Some of Pablo Picasso’s grea...</td>\n",
       "      <td>1</td>\n",
       "    </tr>\n",
       "    <tr>\n",
       "      <th>...</th>\n",
       "      <td>...</td>\n",
       "      <td>...</td>\n",
       "      <td>...</td>\n",
       "    </tr>\n",
       "    <tr>\n",
       "      <th>48877</th>\n",
       "      <td>Oh, rats! Big tree-dwelling rodent found in So...</td>\n",
       "      <td>An illustration of a new species, Uromys vika ...</td>\n",
       "      <td>1</td>\n",
       "    </tr>\n",
       "    <tr>\n",
       "      <th>48878</th>\n",
       "      <td>10/7 Post-Season: Bad Day at the Shop...0-for-...</td>\n",
       "      <td>A Potato Battery Can Light up a Room for Over ...</td>\n",
       "      <td>0</td>\n",
       "    </tr>\n",
       "    <tr>\n",
       "      <th>48879</th>\n",
       "      <td>HANNITY AND TUCKER CARLSON: THE 5 MAJOR FORCES...</td>\n",
       "      <td>Sean Hannity and Tucker Carlson went after the...</td>\n",
       "      <td>0</td>\n",
       "    </tr>\n",
       "    <tr>\n",
       "      <th>48880</th>\n",
       "      <td>WHOA! FLASHBACK VIDEO Of ANDREW BREITBART: “Wh...</td>\n",
       "      <td>**Language warning***Many people don t know th...</td>\n",
       "      <td>0</td>\n",
       "    </tr>\n",
       "    <tr>\n",
       "      <th>48881</th>\n",
       "      <td>RACIST RANT From Supreme Court Justice Exposes...</td>\n",
       "      <td>Supreme Court Justic Sotomayor went on a racis...</td>\n",
       "      <td>0</td>\n",
       "    </tr>\n",
       "  </tbody>\n",
       "</table>\n",
       "<p>48882 rows × 3 columns</p>\n",
       "</div>"
      ],
      "text/plain": [
       "                                                   title  \\\n",
       "0      U.S. vice president to visit South Korea, Japa...   \n",
       "1      U.S. warns of sanctions on any country trading...   \n",
       "2      BREAKING: TRUMP CANCELS Order For New Air Forc...   \n",
       "3      Among White House hopefuls, Trump least likely...   \n",
       "4      Paris exhibition charts Picasso's 'year of won...   \n",
       "...                                                  ...   \n",
       "48877  Oh, rats! Big tree-dwelling rodent found in So...   \n",
       "48878  10/7 Post-Season: Bad Day at the Shop...0-for-...   \n",
       "48879  HANNITY AND TUCKER CARLSON: THE 5 MAJOR FORCES...   \n",
       "48880  WHOA! FLASHBACK VIDEO Of ANDREW BREITBART: “Wh...   \n",
       "48881  RACIST RANT From Supreme Court Justice Exposes...   \n",
       "\n",
       "                                                    text  Label  \n",
       "0       U.S. Vice President Mike Pence will travel to...      1  \n",
       "1       U.S. Treasury Secretary Steve Mnuchin said on...      1  \n",
       "2      The entire cost of the program, including deve...      0  \n",
       "3       The millions of Twitter users following Donal...      1  \n",
       "4      PARIS (Reuters) - Some of Pablo Picasso’s grea...      1  \n",
       "...                                                  ...    ...  \n",
       "48877  An illustration of a new species, Uromys vika ...      1  \n",
       "48878  A Potato Battery Can Light up a Room for Over ...      0  \n",
       "48879  Sean Hannity and Tucker Carlson went after the...      0  \n",
       "48880  **Language warning***Many people don t know th...      0  \n",
       "48881  Supreme Court Justic Sotomayor went on a racis...      0  \n",
       "\n",
       "[48882 rows x 3 columns]"
      ]
     },
     "execution_count": 6,
     "metadata": {},
     "output_type": "execute_result"
    }
   ],
   "source": [
    "#shuffling\n",
    "df3 = df3.sample(frac=1).reset_index(drop=True)\n",
    "df3"
   ]
  },
  {
   "cell_type": "code",
   "execution_count": 7,
   "metadata": {},
   "outputs": [],
   "source": [
    "#cleaning\n",
    "def clean_text(sample):\n",
    "    sample = sample.lower()\n",
    "    sample = re.sub(r'[^\\w\\s]','',sample) # removes all the signs\n",
    "    sample = re.sub(r'\\n','',sample) # removes newline characters\n",
    "    sample = re.sub(r'\\d','',sample) # removes digits\n",
    "    return sample"
   ]
  },
  {
   "cell_type": "code",
   "execution_count": 8,
   "metadata": {},
   "outputs": [
    {
     "name": "stdout",
     "output_type": "stream",
     "text": [
      "<class 'pandas.core.frame.DataFrame'>\n",
      "RangeIndex: 48882 entries, 0 to 48881\n",
      "Data columns (total 3 columns):\n",
      " #   Column  Non-Null Count  Dtype \n",
      "---  ------  --------------  ----- \n",
      " 0   title   48882 non-null  object\n",
      " 1   text    48882 non-null  object\n",
      " 2   Label   48882 non-null  int64 \n",
      "dtypes: int64(1), object(2)\n",
      "memory usage: 1.1+ MB\n"
     ]
    }
   ],
   "source": [
    "df3.info()"
   ]
  },
  {
   "cell_type": "code",
   "execution_count": 9,
   "metadata": {},
   "outputs": [],
   "source": [
    "df3['title'] = df3['title'].apply(clean_text)\n",
    "df3['text'] = df3['text'].apply(clean_text)"
   ]
  },
  {
   "cell_type": "code",
   "execution_count": 10,
   "metadata": {},
   "outputs": [
    {
     "data": {
      "text/html": [
       "<div>\n",
       "<style scoped>\n",
       "    .dataframe tbody tr th:only-of-type {\n",
       "        vertical-align: middle;\n",
       "    }\n",
       "\n",
       "    .dataframe tbody tr th {\n",
       "        vertical-align: top;\n",
       "    }\n",
       "\n",
       "    .dataframe thead th {\n",
       "        text-align: right;\n",
       "    }\n",
       "</style>\n",
       "<table border=\"1\" class=\"dataframe\">\n",
       "  <thead>\n",
       "    <tr style=\"text-align: right;\">\n",
       "      <th></th>\n",
       "      <th>title</th>\n",
       "      <th>text</th>\n",
       "      <th>Label</th>\n",
       "    </tr>\n",
       "  </thead>\n",
       "  <tbody>\n",
       "    <tr>\n",
       "      <th>0</th>\n",
       "      <td>us vice president to visit south korea japan i...</td>\n",
       "      <td>us vice president mike pence will travel to s...</td>\n",
       "      <td>1</td>\n",
       "    </tr>\n",
       "    <tr>\n",
       "      <th>1</th>\n",
       "      <td>us warns of sanctions on any country trading w...</td>\n",
       "      <td>us treasury secretary steve mnuchin said on w...</td>\n",
       "      <td>1</td>\n",
       "    </tr>\n",
       "    <tr>\n",
       "      <th>2</th>\n",
       "      <td>breaking trump cancels order for new air force...</td>\n",
       "      <td>the entire cost of the program including devel...</td>\n",
       "      <td>0</td>\n",
       "    </tr>\n",
       "    <tr>\n",
       "      <th>3</th>\n",
       "      <td>among white house hopefuls trump least likely ...</td>\n",
       "      <td>the millions of twitter users following donal...</td>\n",
       "      <td>1</td>\n",
       "    </tr>\n",
       "    <tr>\n",
       "      <th>4</th>\n",
       "      <td>paris exhibition charts picassos year of wonders</td>\n",
       "      <td>paris reuters  some of pablo picassos greatest...</td>\n",
       "      <td>1</td>\n",
       "    </tr>\n",
       "  </tbody>\n",
       "</table>\n",
       "</div>"
      ],
      "text/plain": [
       "                                               title  \\\n",
       "0  us vice president to visit south korea japan i...   \n",
       "1  us warns of sanctions on any country trading w...   \n",
       "2  breaking trump cancels order for new air force...   \n",
       "3  among white house hopefuls trump least likely ...   \n",
       "4   paris exhibition charts picassos year of wonders   \n",
       "\n",
       "                                                text  Label  \n",
       "0   us vice president mike pence will travel to s...      1  \n",
       "1   us treasury secretary steve mnuchin said on w...      1  \n",
       "2  the entire cost of the program including devel...      0  \n",
       "3   the millions of twitter users following donal...      1  \n",
       "4  paris reuters  some of pablo picassos greatest...      1  "
      ]
     },
     "execution_count": 10,
     "metadata": {},
     "output_type": "execute_result"
    }
   ],
   "source": [
    "df3.head()"
   ]
  },
  {
   "cell_type": "code",
   "execution_count": 11,
   "metadata": {},
   "outputs": [
    {
     "data": {
      "text/plain": [
       "(Empty DataFrame\n",
       " Columns: [title, text, Label]\n",
       " Index: [],\n",
       " Empty DataFrame\n",
       " Columns: [title, text, Label]\n",
       " Index: [])"
      ]
     },
     "execution_count": 11,
     "metadata": {},
     "output_type": "execute_result"
    }
   ],
   "source": [
    "df3[df3['title']==''],df3[df3['title']=='']"
   ]
  },
  {
   "cell_type": "code",
   "execution_count": 12,
   "metadata": {},
   "outputs": [
    {
     "data": {
      "text/plain": [
       "'the corrupt covering for the corrupt chicago politics at its best hillary clinton could be prosecuted in federal court for failing to tell president barack obama about her private email server at the time she was running it according to a veteran fbi agent obama said flatly during a   minutes  interview on sunday that  no  he did not know clinton sidestepped security protocols with her a homebrew email setup while she was his secretary of statethe fbi agent who spoke with dailymailcom has had a year career in federal law enforcement and serves in a supervisory capacity in a domestic fbi field officehe said on friday that failing to put obama in the loop could be enough to send her to prison for ten years viadaily mailever since he opined that the police had  acted stupidly  prior to the infamous and embarrassing  beer summit  obama has shown himself eager to interfere with ongoing investigations for political reasons when thuglet trayvon martin provided an good example of why jumping and beating down a stranger is a bad evolutionary strategy obama jumped on the racebaiting bandwagon saying if he had a son that son would look like martin when the justice department was looking into the illegal use of the irs to harass opponents of the administration obama said  there is not even a smidgen of corruption  when deserter and failed turncoat bowe bergdahl was released by the taliban obama had his hippie parents over for a rose garden ceremony even though he was known at the time to be a deserter now obama has interjected himself into the investigation into the fate of top secret documents illegally stored on hillary clinton s private server from his  minutes interview with steve kroft on october steve kroft do you think it posed a national security problempresident barack obama i don t think it posed a national security problem i think that it was a mistake that she has acknowledged and  you know as a general proposition when we re in these offices we have to be more sensitive and stay as far away from the line as possible when it comes to how we handle information how we handle our own personal data and you know she made a mistake she has acknowledged it i do think that the way it s been ginnedup is in part because of  in part  because of politics and i think she d be the first to acknowledge that maybe she could have handled the original decision better and the disclosures more quickly but steve kroft what was your reaction when you found out about itpresident barack obama this is one of those issues that i think is legitimate but the fact that for the last three months this is all that s been spoken about is an indication that we re in presidential political seasonsteve kroft do you agree with what president clinton has said and secretary clinton has said that this is not  not that big a deal do you agree with thatpresident barack obama well i m not going to comment on steve kroft you think it s not that big a deal president barack obama what i think is that it is important for her to answer these questions to the satisfaction of the american public and they can make their own judgment i can tell you that this is not a situation in which america s national security was endangeredsteve kroft this administration has prosecuted people for having classified material on their private computerspresident barack obama well i  there s no doubt that there had been breaches and these are all a matter of degree we don t get an impression that here there was purposely efforts  on  in  to hide something or to squirrel away information but again i m gonna leave it to this can only be seen as an attempt by obama to tell the federal prosecutors who will ultimately decide what if any charges should be made in this case that there is nothing to see herethose statements angered fbi agents who have been working for months to determine whether ms clinton s email setup had in fact put any of the nation s secrets at risk according to current and former law enforcement officialsinvestigators have not reached any conclusions about whether the information on the server had been compromised or whether to recommend charges according to the law enforcement officials but to investigators it sounded as if mr obama had already decided the answers to their questions and cleared anyone involved of wrongdoingthe white house quickly backed off the president s remarks and said mr obama was not trying to influence the investigation but his comments spread quickly raising the ire of officials who saw an instance of the president trying to influence the outcome of a continuing investigation   and not for the first timea spokesman for the fbi declined to comment but ron hosko a former senior fbi official who retired in  and is now the president of the law enforcement legal defense fund said it was inappropriate for the president to  suggest what side of the investigation he is on  when the fbi is still investigating injecting politics into what is supposed to be a factfinding inquiry leaves a foul taste in the fbi s mouth and makes them fear that no matter what they find the justice department will take the president s signal and not bring a case  said mr hosko who maintains close contact with current agentsseveral current and former law enforcement officials including those close to the investigation expressed similar sentiments in separate interviews over several days most however did so only on condition of anonymity because they were not authorized to speak publicly about the casecontrary to what hillary s campaign is saying we now have it on pretty good authority that the fbi is conducting an investigation under the part of the espionage act that pertains to gross negligence in the handling of defense information that information at a minimum is the two top secret keyhole satellite derived documents discovered by the intelligence community ig though it could be any of the over  emails containing classified information that have been uncovered so farf whoever being entrusted with or having lawful possession or control of any document writing code book signal book sketch photograph photographic negative blueprint plan map model instrument appliance note or information relating to the national defense  through gross negligence permits the same to be removed from its proper place of custody or delivered to anyone in violation of his trust or to be lost stolen abstracted or destroyed or  having knowledge that the same has been illegally removed from its proper place of custody or delivered to anyone in violation of its trust or lost or stolen abstracted or destroyed and fails to make prompt report of such loss theft abstraction or destruction to his superior officer  shall be fined under this title or imprisoned not more than ten years or both via red state'"
      ]
     },
     "execution_count": 12,
     "metadata": {},
     "output_type": "execute_result"
    }
   ],
   "source": [
    "df3.iloc[289,1]"
   ]
  },
  {
   "cell_type": "code",
   "execution_count": 13,
   "metadata": {},
   "outputs": [],
   "source": [
    "import nltk\n",
    "from nltk.corpus import stopwords\n",
    "from nltk.stem import WordNetLemmatizer"
   ]
  },
  {
   "cell_type": "code",
   "execution_count": 14,
   "metadata": {},
   "outputs": [
    {
     "data": {
      "text/plain": [
       "['i',\n",
       " 'me',\n",
       " 'my',\n",
       " 'myself',\n",
       " 'we',\n",
       " 'our',\n",
       " 'ours',\n",
       " 'ourselves',\n",
       " 'you',\n",
       " \"you're\",\n",
       " \"you've\",\n",
       " \"you'll\",\n",
       " \"you'd\",\n",
       " 'your',\n",
       " 'yours',\n",
       " 'yourself',\n",
       " 'yourselves',\n",
       " 'he',\n",
       " 'him',\n",
       " 'his',\n",
       " 'himself',\n",
       " 'she',\n",
       " \"she's\",\n",
       " 'her',\n",
       " 'hers',\n",
       " 'herself',\n",
       " 'it',\n",
       " \"it's\",\n",
       " 'its',\n",
       " 'itself',\n",
       " 'they',\n",
       " 'them',\n",
       " 'their',\n",
       " 'theirs',\n",
       " 'themselves',\n",
       " 'what',\n",
       " 'which',\n",
       " 'who',\n",
       " 'whom',\n",
       " 'this',\n",
       " 'that',\n",
       " \"that'll\",\n",
       " 'these',\n",
       " 'those',\n",
       " 'am',\n",
       " 'is',\n",
       " 'are',\n",
       " 'was',\n",
       " 'were',\n",
       " 'be',\n",
       " 'been',\n",
       " 'being',\n",
       " 'have',\n",
       " 'has',\n",
       " 'had',\n",
       " 'having',\n",
       " 'do',\n",
       " 'does',\n",
       " 'did',\n",
       " 'doing',\n",
       " 'a',\n",
       " 'an',\n",
       " 'the',\n",
       " 'and',\n",
       " 'but',\n",
       " 'if',\n",
       " 'or',\n",
       " 'because',\n",
       " 'as',\n",
       " 'until',\n",
       " 'while',\n",
       " 'of',\n",
       " 'at',\n",
       " 'by',\n",
       " 'for',\n",
       " 'with',\n",
       " 'about',\n",
       " 'against',\n",
       " 'between',\n",
       " 'into',\n",
       " 'through',\n",
       " 'during',\n",
       " 'before',\n",
       " 'after',\n",
       " 'above',\n",
       " 'below',\n",
       " 'to',\n",
       " 'from',\n",
       " 'up',\n",
       " 'down',\n",
       " 'in',\n",
       " 'out',\n",
       " 'on',\n",
       " 'off',\n",
       " 'over',\n",
       " 'under',\n",
       " 'again',\n",
       " 'further',\n",
       " 'then',\n",
       " 'once',\n",
       " 'here',\n",
       " 'there',\n",
       " 'when',\n",
       " 'where',\n",
       " 'why',\n",
       " 'how',\n",
       " 'all',\n",
       " 'any',\n",
       " 'both',\n",
       " 'each',\n",
       " 'few',\n",
       " 'more',\n",
       " 'most',\n",
       " 'other',\n",
       " 'some',\n",
       " 'such',\n",
       " 'no',\n",
       " 'nor',\n",
       " 'not',\n",
       " 'only',\n",
       " 'own',\n",
       " 'same',\n",
       " 'so',\n",
       " 'than',\n",
       " 'too',\n",
       " 'very',\n",
       " 's',\n",
       " 't',\n",
       " 'can',\n",
       " 'will',\n",
       " 'just',\n",
       " 'don',\n",
       " \"don't\",\n",
       " 'should',\n",
       " \"should've\",\n",
       " 'now',\n",
       " 'd',\n",
       " 'll',\n",
       " 'm',\n",
       " 'o',\n",
       " 're',\n",
       " 've',\n",
       " 'y',\n",
       " 'ain',\n",
       " 'aren',\n",
       " \"aren't\",\n",
       " 'couldn',\n",
       " \"couldn't\",\n",
       " 'didn',\n",
       " \"didn't\",\n",
       " 'doesn',\n",
       " \"doesn't\",\n",
       " 'hadn',\n",
       " \"hadn't\",\n",
       " 'hasn',\n",
       " \"hasn't\",\n",
       " 'haven',\n",
       " \"haven't\",\n",
       " 'isn',\n",
       " \"isn't\",\n",
       " 'ma',\n",
       " 'mightn',\n",
       " \"mightn't\",\n",
       " 'mustn',\n",
       " \"mustn't\",\n",
       " 'needn',\n",
       " \"needn't\",\n",
       " 'shan',\n",
       " \"shan't\",\n",
       " 'shouldn',\n",
       " \"shouldn't\",\n",
       " 'wasn',\n",
       " \"wasn't\",\n",
       " 'weren',\n",
       " \"weren't\",\n",
       " 'won',\n",
       " \"won't\",\n",
       " 'wouldn',\n",
       " \"wouldn't\",\n",
       " 'the',\n",
       " 'u',\n",
       " 'us',\n",
       " 'vp',\n",
       " 'st']"
      ]
     },
     "execution_count": 14,
     "metadata": {},
     "output_type": "execute_result"
    }
   ],
   "source": [
    "lemmatizer = WordNetLemmatizer()\n",
    "stop_words = stopwords.words('english')\n",
    "stop_words.extend(['the',\"u\",'us',\"vp\",'st'])\n",
    "stop_words"
   ]
  },
  {
   "cell_type": "code",
   "execution_count": 15,
   "metadata": {},
   "outputs": [],
   "source": [
    "def clean_text(sample):\n",
    "    filter_sentance = ''\n",
    "    # Tokenization\n",
    "    words = nltk.word_tokenize(sample)\n",
    "    \n",
    "    if len(words)>20:\n",
    "        # Stopwords removal\n",
    "        words = [w for w in words if not w in stop_words]\n",
    "\n",
    "        # Lemmatization/stemming\n",
    "        for words in words:\n",
    "            filter_sentance = filter_sentance  + ' ' +str(lemmatizer.lemmatize(words)).lower()\n",
    "\n",
    "        return filter_sentance \n",
    "    else:\n",
    "        return np.NaN"
   ]
  },
  {
   "cell_type": "code",
   "execution_count": 16,
   "metadata": {},
   "outputs": [],
   "source": [
    "def clean_title(sample):\n",
    "    filter_sentance = ''\n",
    "    # Tokenization\n",
    "    words = nltk.word_tokenize(sample)\n",
    "    \n",
    "    if len(words)>4 and len(words)<27:\n",
    "        # Stopwords removal\n",
    "        words = [w for w in words if not w in stop_words]\n",
    "\n",
    "        # Lemmatization/stemming\n",
    "        for words in words:\n",
    "            filter_sentance = filter_sentance  + ' ' +str(lemmatizer.lemmatize(words)).lower()\n",
    "\n",
    "        return filter_sentance \n",
    "    else:\n",
    "        return np.NaN"
   ]
  },
  {
   "cell_type": "code",
   "execution_count": 17,
   "metadata": {},
   "outputs": [],
   "source": [
    "df3['title'] = df3['title'].apply(clean_title)\n",
    "df3['text'] = df3['text'].apply(clean_text)"
   ]
  },
  {
   "cell_type": "code",
   "execution_count": 18,
   "metadata": {},
   "outputs": [
    {
     "data": {
      "text/html": [
       "<div>\n",
       "<style scoped>\n",
       "    .dataframe tbody tr th:only-of-type {\n",
       "        vertical-align: middle;\n",
       "    }\n",
       "\n",
       "    .dataframe tbody tr th {\n",
       "        vertical-align: top;\n",
       "    }\n",
       "\n",
       "    .dataframe thead th {\n",
       "        text-align: right;\n",
       "    }\n",
       "</style>\n",
       "<table border=\"1\" class=\"dataframe\">\n",
       "  <thead>\n",
       "    <tr style=\"text-align: right;\">\n",
       "      <th></th>\n",
       "      <th>title</th>\n",
       "      <th>text</th>\n",
       "      <th>Label</th>\n",
       "    </tr>\n",
       "  </thead>\n",
       "  <tbody>\n",
       "    <tr>\n",
       "      <th>0</th>\n",
       "      <td>vice president visit south korea japan indone...</td>\n",
       "      <td>vice president mike penny travel south korea ...</td>\n",
       "      <td>1</td>\n",
       "    </tr>\n",
       "    <tr>\n",
       "      <th>1</th>\n",
       "      <td>warns sanction country trading north korea</td>\n",
       "      <td>treasury secretary steve mnuchin said wednesd...</td>\n",
       "      <td>1</td>\n",
       "    </tr>\n",
       "    <tr>\n",
       "      <th>2</th>\n",
       "      <td>breaking trump cancel order new air force one...</td>\n",
       "      <td>entire cost program including development cos...</td>\n",
       "      <td>0</td>\n",
       "    </tr>\n",
       "    <tr>\n",
       "      <th>3</th>\n",
       "      <td>among white house hopeful trump least likely ...</td>\n",
       "      <td>NaN</td>\n",
       "      <td>1</td>\n",
       "    </tr>\n",
       "    <tr>\n",
       "      <th>4</th>\n",
       "      <td>paris exhibition chart picasso year wonder</td>\n",
       "      <td>paris reuters pablo picasso greatest work go ...</td>\n",
       "      <td>1</td>\n",
       "    </tr>\n",
       "    <tr>\n",
       "      <th>...</th>\n",
       "      <td>...</td>\n",
       "      <td>...</td>\n",
       "      <td>...</td>\n",
       "    </tr>\n",
       "    <tr>\n",
       "      <th>48877</th>\n",
       "      <td>oh rat big treedwelling rodent found solomon ...</td>\n",
       "      <td>illustration new specie uromys vika shown ill...</td>\n",
       "      <td>1</td>\n",
       "    </tr>\n",
       "    <tr>\n",
       "      <th>48878</th>\n",
       "      <td>postseason bad day shopfor w playoff</td>\n",
       "      <td>potato battery light room month diy system us...</td>\n",
       "      <td>0</td>\n",
       "    </tr>\n",
       "    <tr>\n",
       "      <th>48879</th>\n",
       "      <td>hannity tucker carlson major force aligned ta...</td>\n",
       "      <td>sean hannity tucker carlson went deep state c...</td>\n",
       "      <td>0</td>\n",
       "    </tr>\n",
       "    <tr>\n",
       "      <th>48880</th>\n",
       "      <td>whoa flashback video andrew breitbart whats c...</td>\n",
       "      <td>language warningmany people know andrew breit...</td>\n",
       "      <td>0</td>\n",
       "    </tr>\n",
       "    <tr>\n",
       "      <th>48881</th>\n",
       "      <td>racist rant supreme court justice expose slan...</td>\n",
       "      <td>supreme court justic sotomayor went racist ra...</td>\n",
       "      <td>0</td>\n",
       "    </tr>\n",
       "  </tbody>\n",
       "</table>\n",
       "<p>48882 rows × 3 columns</p>\n",
       "</div>"
      ],
      "text/plain": [
       "                                                   title  \\\n",
       "0       vice president visit south korea japan indone...   \n",
       "1             warns sanction country trading north korea   \n",
       "2       breaking trump cancel order new air force one...   \n",
       "3       among white house hopeful trump least likely ...   \n",
       "4             paris exhibition chart picasso year wonder   \n",
       "...                                                  ...   \n",
       "48877   oh rat big treedwelling rodent found solomon ...   \n",
       "48878               postseason bad day shopfor w playoff   \n",
       "48879   hannity tucker carlson major force aligned ta...   \n",
       "48880   whoa flashback video andrew breitbart whats c...   \n",
       "48881   racist rant supreme court justice expose slan...   \n",
       "\n",
       "                                                    text  Label  \n",
       "0       vice president mike penny travel south korea ...      1  \n",
       "1       treasury secretary steve mnuchin said wednesd...      1  \n",
       "2       entire cost program including development cos...      0  \n",
       "3                                                    NaN      1  \n",
       "4       paris reuters pablo picasso greatest work go ...      1  \n",
       "...                                                  ...    ...  \n",
       "48877   illustration new specie uromys vika shown ill...      1  \n",
       "48878   potato battery light room month diy system us...      0  \n",
       "48879   sean hannity tucker carlson went deep state c...      0  \n",
       "48880   language warningmany people know andrew breit...      0  \n",
       "48881   supreme court justic sotomayor went racist ra...      0  \n",
       "\n",
       "[48882 rows x 3 columns]"
      ]
     },
     "execution_count": 18,
     "metadata": {},
     "output_type": "execute_result"
    }
   ],
   "source": [
    "df3"
   ]
  },
  {
   "cell_type": "code",
   "execution_count": 19,
   "metadata": {},
   "outputs": [],
   "source": [
    "df3.drop(index = df3[df3['title'].isnull()].index,axis=0,inplace=True)"
   ]
  },
  {
   "cell_type": "code",
   "execution_count": 20,
   "metadata": {},
   "outputs": [],
   "source": [
    "df3.drop(index = df3[df3['text'].isnull()].index,axis=0,inplace=True)"
   ]
  },
  {
   "cell_type": "code",
   "execution_count": 21,
   "metadata": {},
   "outputs": [
    {
     "data": {
      "text/html": [
       "<div>\n",
       "<style scoped>\n",
       "    .dataframe tbody tr th:only-of-type {\n",
       "        vertical-align: middle;\n",
       "    }\n",
       "\n",
       "    .dataframe tbody tr th {\n",
       "        vertical-align: top;\n",
       "    }\n",
       "\n",
       "    .dataframe thead th {\n",
       "        text-align: right;\n",
       "    }\n",
       "</style>\n",
       "<table border=\"1\" class=\"dataframe\">\n",
       "  <thead>\n",
       "    <tr style=\"text-align: right;\">\n",
       "      <th></th>\n",
       "      <th>title</th>\n",
       "      <th>text</th>\n",
       "      <th>Label</th>\n",
       "    </tr>\n",
       "  </thead>\n",
       "  <tbody>\n",
       "    <tr>\n",
       "      <th>0</th>\n",
       "      <td>vice president visit south korea japan indone...</td>\n",
       "      <td>vice president mike penny travel south korea ...</td>\n",
       "      <td>1</td>\n",
       "    </tr>\n",
       "    <tr>\n",
       "      <th>1</th>\n",
       "      <td>warns sanction country trading north korea</td>\n",
       "      <td>treasury secretary steve mnuchin said wednesd...</td>\n",
       "      <td>1</td>\n",
       "    </tr>\n",
       "    <tr>\n",
       "      <th>2</th>\n",
       "      <td>breaking trump cancel order new air force one...</td>\n",
       "      <td>entire cost program including development cos...</td>\n",
       "      <td>0</td>\n",
       "    </tr>\n",
       "    <tr>\n",
       "      <th>4</th>\n",
       "      <td>paris exhibition chart picasso year wonder</td>\n",
       "      <td>paris reuters pablo picasso greatest work go ...</td>\n",
       "      <td>1</td>\n",
       "    </tr>\n",
       "    <tr>\n",
       "      <th>5</th>\n",
       "      <td>construction executive detained peru graft probe</td>\n",
       "      <td>four former current executive peruvian constr...</td>\n",
       "      <td>1</td>\n",
       "    </tr>\n",
       "    <tr>\n",
       "      <th>...</th>\n",
       "      <td>...</td>\n",
       "      <td>...</td>\n",
       "      <td>...</td>\n",
       "    </tr>\n",
       "    <tr>\n",
       "      <th>48877</th>\n",
       "      <td>oh rat big treedwelling rodent found solomon ...</td>\n",
       "      <td>illustration new specie uromys vika shown ill...</td>\n",
       "      <td>1</td>\n",
       "    </tr>\n",
       "    <tr>\n",
       "      <th>48878</th>\n",
       "      <td>postseason bad day shopfor w playoff</td>\n",
       "      <td>potato battery light room month diy system us...</td>\n",
       "      <td>0</td>\n",
       "    </tr>\n",
       "    <tr>\n",
       "      <th>48879</th>\n",
       "      <td>hannity tucker carlson major force aligned ta...</td>\n",
       "      <td>sean hannity tucker carlson went deep state c...</td>\n",
       "      <td>0</td>\n",
       "    </tr>\n",
       "    <tr>\n",
       "      <th>48880</th>\n",
       "      <td>whoa flashback video andrew breitbart whats c...</td>\n",
       "      <td>language warningmany people know andrew breit...</td>\n",
       "      <td>0</td>\n",
       "    </tr>\n",
       "    <tr>\n",
       "      <th>48881</th>\n",
       "      <td>racist rant supreme court justice expose slan...</td>\n",
       "      <td>supreme court justic sotomayor went racist ra...</td>\n",
       "      <td>0</td>\n",
       "    </tr>\n",
       "  </tbody>\n",
       "</table>\n",
       "<p>42254 rows × 3 columns</p>\n",
       "</div>"
      ],
      "text/plain": [
       "                                                   title  \\\n",
       "0       vice president visit south korea japan indone...   \n",
       "1             warns sanction country trading north korea   \n",
       "2       breaking trump cancel order new air force one...   \n",
       "4             paris exhibition chart picasso year wonder   \n",
       "5       construction executive detained peru graft probe   \n",
       "...                                                  ...   \n",
       "48877   oh rat big treedwelling rodent found solomon ...   \n",
       "48878               postseason bad day shopfor w playoff   \n",
       "48879   hannity tucker carlson major force aligned ta...   \n",
       "48880   whoa flashback video andrew breitbart whats c...   \n",
       "48881   racist rant supreme court justice expose slan...   \n",
       "\n",
       "                                                    text  Label  \n",
       "0       vice president mike penny travel south korea ...      1  \n",
       "1       treasury secretary steve mnuchin said wednesd...      1  \n",
       "2       entire cost program including development cos...      0  \n",
       "4       paris reuters pablo picasso greatest work go ...      1  \n",
       "5       four former current executive peruvian constr...      1  \n",
       "...                                                  ...    ...  \n",
       "48877   illustration new specie uromys vika shown ill...      1  \n",
       "48878   potato battery light room month diy system us...      0  \n",
       "48879   sean hannity tucker carlson went deep state c...      0  \n",
       "48880   language warningmany people know andrew breit...      0  \n",
       "48881   supreme court justic sotomayor went racist ra...      0  \n",
       "\n",
       "[42254 rows x 3 columns]"
      ]
     },
     "execution_count": 21,
     "metadata": {},
     "output_type": "execute_result"
    }
   ],
   "source": [
    "df3"
   ]
  },
  {
   "cell_type": "code",
   "execution_count": 22,
   "metadata": {},
   "outputs": [
    {
     "data": {
      "text/plain": [
       "(Empty DataFrame\n",
       " Columns: [title, text, Label]\n",
       " Index: [],\n",
       " Empty DataFrame\n",
       " Columns: [title, text, Label]\n",
       " Index: [])"
      ]
     },
     "execution_count": 22,
     "metadata": {},
     "output_type": "execute_result"
    }
   ],
   "source": [
    "df3[df3['title']==''],df3[df3['text']=='']"
   ]
  },
  {
   "cell_type": "code",
   "execution_count": 23,
   "metadata": {},
   "outputs": [
    {
     "data": {
      "text/plain": [
       "<AxesSubplot:xlabel='Label', ylabel='count'>"
      ]
     },
     "execution_count": 23,
     "metadata": {},
     "output_type": "execute_result"
    },
    {
     "data": {
      "image/png": "[encoded data removed]",
      "text/plain": [
       "<Figure size 432x288 with 1 Axes>"
      ]
     },
     "metadata": {
      "needs_background": "light"
     },
     "output_type": "display_data"
    }
   ],
   "source": [
    "#slightly imbalanced\n",
    "sns.countplot(x= df3['Label'])"
   ]
  },
  {
   "cell_type": "markdown",
   "metadata": {},
   "source": [
    "# balancing data"
   ]
  },
  {
   "cell_type": "code",
   "execution_count": 24,
   "metadata": {},
   "outputs": [
    {
     "data": {
      "text/plain": [
       "((18555, 3), (23699, 3))"
      ]
     },
     "execution_count": 24,
     "metadata": {},
     "output_type": "execute_result"
    }
   ],
   "source": [
    "df3[df3['Label']==1].shape,df3[df3['Label']==0].shape"
   ]
  },
  {
   "cell_type": "code",
   "execution_count": 25,
   "metadata": {},
   "outputs": [],
   "source": [
    "df3.drop(index = df3[df3['Label']==0][0:3000].index,inplace=True)"
   ]
  },
  {
   "cell_type": "code",
   "execution_count": 26,
   "metadata": {},
   "outputs": [
    {
     "data": {
      "text/plain": [
       "((18555, 3), (20699, 3))"
      ]
     },
     "execution_count": 26,
     "metadata": {},
     "output_type": "execute_result"
    }
   ],
   "source": [
    "df3[df3['Label']==1].shape,df3[df3['Label']==0].shape"
   ]
  },
  {
   "cell_type": "code",
   "execution_count": 27,
   "metadata": {},
   "outputs": [
    {
     "data": {
      "text/plain": [
       "<AxesSubplot:xlabel='Label', ylabel='count'>"
      ]
     },
     "execution_count": 27,
     "metadata": {},
     "output_type": "execute_result"
    },
    {
     "data": {
      "image/png": "[encoded data removed]",
      "text/plain": [
       "<Figure size 432x288 with 1 Axes>"
      ]
     },
     "metadata": {
      "needs_background": "light"
     },
     "output_type": "display_data"
    }
   ],
   "source": [
    "sns.countplot(x= df3['Label'])"
   ]
  },
  {
   "cell_type": "code",
   "execution_count": 28,
   "metadata": {},
   "outputs": [],
   "source": [
    "# df3 = df3.sample(frac=0.3).reset_index(drop= True)"
   ]
  },
  {
   "cell_type": "code",
   "execution_count": 29,
   "metadata": {},
   "outputs": [
    {
     "data": {
      "text/plain": [
       "<AxesSubplot:xlabel='Label', ylabel='count'>"
      ]
     },
     "execution_count": 29,
     "metadata": {},
     "output_type": "execute_result"
    },
    {
     "data": {
      "image/png": "[encoded data removed]",
      "text/plain": [
       "<Figure size 432x288 with 1 Axes>"
      ]
     },
     "metadata": {
      "needs_background": "light"
     },
     "output_type": "display_data"
    }
   ],
   "source": [
    "sns.countplot(x= df3['Label'])"
   ]
  },
  {
   "cell_type": "code",
   "execution_count": 30,
   "metadata": {},
   "outputs": [],
   "source": [
    "df3.to_csv('data/cleaned_data/final_data.csv',index = False)"
   ]
  },
  {
   "cell_type": "code",
   "execution_count": null,
   "metadata": {},
   "outputs": [],
   "source": []
  }
 ],
 "metadata": {
  "kernelspec": {
   "display_name": "Python conda_env",
   "language": "python",
   "name": "conda_env"
  },
  "language_info": {
   "codemirror_mode": {
    "name": "ipython",
    "version": 3
   },
   "file_extension": ".py",
   "mimetype": "text/x-python",
   "name": "python",
   "nbconvert_exporter": "python",
   "pygments_lexer": "ipython3",
   "version": "3.8.5"
  }
 },
 "nbformat": 4,
 "nbformat_minor": 4
}
