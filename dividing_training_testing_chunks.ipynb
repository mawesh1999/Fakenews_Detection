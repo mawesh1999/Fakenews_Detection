{
 "cells": [
  {
   "cell_type": "code",
   "execution_count": 1,
   "metadata": {},
   "outputs": [],
   "source": [
    "import pandas as pd\n",
    "import seaborn as sns"
   ]
  },
  {
   "cell_type": "code",
   "execution_count": 2,
   "metadata": {},
   "outputs": [],
   "source": [
    "df = pd.read_csv('data/cleaned_data/final_data.csv')"
   ]
  },
  {
   "cell_type": "code",
   "execution_count": 3,
   "metadata": {},
   "outputs": [
    {
     "data": {
      "text/plain": [
       "(39254, 3)"
      ]
     },
     "execution_count": 3,
     "metadata": {},
     "output_type": "execute_result"
    }
   ],
   "source": [
    "df.shape"
   ]
  },
  {
   "cell_type": "code",
   "execution_count": 4,
   "metadata": {},
   "outputs": [],
   "source": [
    "real = df[df['Label']==1]\n",
    "fake = df[df['Label']==0]"
   ]
  },
  {
   "cell_type": "code",
   "execution_count": 5,
   "metadata": {},
   "outputs": [
    {
     "data": {
      "text/plain": [
       "((18555, 3), (20699, 3))"
      ]
     },
     "execution_count": 5,
     "metadata": {},
     "output_type": "execute_result"
    }
   ],
   "source": [
    "real.shape, fake.shape"
   ]
  },
  {
   "cell_type": "code",
   "execution_count": 6,
   "metadata": {},
   "outputs": [],
   "source": [
    "n = 5000  #chunk row size"
   ]
  },
  {
   "cell_type": "code",
   "execution_count": 7,
   "metadata": {},
   "outputs": [],
   "source": [
    "def chunks(dataframe):\n",
    "    name = [dataframe[i:i+n] for i in range(0,dataframe.shape[0],n)]\n",
    "    return name\n",
    "    \n",
    "    \n",
    "    "
   ]
  },
  {
   "cell_type": "code",
   "execution_count": 8,
   "metadata": {},
   "outputs": [
    {
     "data": {
      "text/plain": [
       "[(5000, 3), (5000, 3), (5000, 3), (3555, 3)]"
      ]
     },
     "execution_count": 8,
     "metadata": {},
     "output_type": "execute_result"
    }
   ],
   "source": [
    "real_chunks = chunks(real)\n",
    "[real_chunks[i].shape for i in range(0,4)]"
   ]
  },
  {
   "cell_type": "code",
   "execution_count": 9,
   "metadata": {},
   "outputs": [
    {
     "data": {
      "text/plain": [
       "[(5000, 3), (5000, 3), (5000, 3), (5000, 3)]"
      ]
     },
     "execution_count": 9,
     "metadata": {},
     "output_type": "execute_result"
    }
   ],
   "source": [
    "fake_chunks = chunks(fake)\n",
    "[fake_chunks[i].shape for i in range(0,4)]"
   ]
  },
  {
   "cell_type": "code",
   "execution_count": 10,
   "metadata": {},
   "outputs": [
    {
     "data": {
      "text/html": [
       "<div>\n",
       "<style scoped>\n",
       "    .dataframe tbody tr th:only-of-type {\n",
       "        vertical-align: middle;\n",
       "    }\n",
       "\n",
       "    .dataframe tbody tr th {\n",
       "        vertical-align: top;\n",
       "    }\n",
       "\n",
       "    .dataframe thead th {\n",
       "        text-align: right;\n",
       "    }\n",
       "</style>\n",
       "<table border=\"1\" class=\"dataframe\">\n",
       "  <thead>\n",
       "    <tr style=\"text-align: right;\">\n",
       "      <th></th>\n",
       "      <th>title</th>\n",
       "      <th>text</th>\n",
       "      <th>Label</th>\n",
       "    </tr>\n",
       "  </thead>\n",
       "  <tbody>\n",
       "    <tr>\n",
       "      <th>0</th>\n",
       "      <td>tension rise north dakota pipeline trump set ...</td>\n",
       "      <td>tension increased week near construction site...</td>\n",
       "      <td>1</td>\n",
       "    </tr>\n",
       "    <tr>\n",
       "      <th>1</th>\n",
       "      <td>billboard bay area confirms time impeach trump</td>\n",
       "      <td>billboard bay area confirms time impeach trum...</td>\n",
       "      <td>0</td>\n",
       "    </tr>\n",
       "    <tr>\n",
       "      <th>2</th>\n",
       "      <td>texas lawmaker file crucial bill could save c...</td>\n",
       "      <td>tuesday senator jose menendez dsan antonio fi...</td>\n",
       "      <td>0</td>\n",
       "    </tr>\n",
       "    <tr>\n",
       "      <th>3</th>\n",
       "      <td>canada obama watch new prime minister call pr...</td>\n",
       "      <td>global wussification male identifying feminis...</td>\n",
       "      <td>0</td>\n",
       "    </tr>\n",
       "    <tr>\n",
       "      <th>4</th>\n",
       "      <td>former nypd vip security detail say hillary d...</td>\n",
       "      <td>almost scary idea hillary would lie major hea...</td>\n",
       "      <td>0</td>\n",
       "    </tr>\n",
       "    <tr>\n",
       "      <th>...</th>\n",
       "      <td>...</td>\n",
       "      <td>...</td>\n",
       "      <td>...</td>\n",
       "    </tr>\n",
       "    <tr>\n",
       "      <th>9995</th>\n",
       "      <td>northern ireland life inside fountain</td>\n",
       "      <td>william jackson remembers exodus vividly prot...</td>\n",
       "      <td>1</td>\n",
       "    </tr>\n",
       "    <tr>\n",
       "      <th>9996</th>\n",
       "      <td>sweden brink collapse gun purchase way uppepp...</td>\n",
       "      <td>politically correct country sweden paying big...</td>\n",
       "      <td>0</td>\n",
       "    </tr>\n",
       "    <tr>\n",
       "      <th>9997</th>\n",
       "      <td>family living traditional lifestyle torn apar...</td>\n",
       "      <td>conform pay ultimate price police seized ten ...</td>\n",
       "      <td>0</td>\n",
       "    </tr>\n",
       "    <tr>\n",
       "      <th>9998</th>\n",
       "      <td>trump us tragedy congratulate video</td>\n",
       "      <td>case know explosion lower manhattan saturday ...</td>\n",
       "      <td>0</td>\n",
       "    </tr>\n",
       "    <tr>\n",
       "      <th>9999</th>\n",
       "      <td>president trump attend paris july celebration</td>\n",
       "      <td>president donald trump travel france bastille...</td>\n",
       "      <td>1</td>\n",
       "    </tr>\n",
       "  </tbody>\n",
       "</table>\n",
       "<p>10000 rows × 3 columns</p>\n",
       "</div>"
      ],
      "text/plain": [
       "                                                  title  \\\n",
       "0      tension rise north dakota pipeline trump set ...   \n",
       "1        billboard bay area confirms time impeach trump   \n",
       "2      texas lawmaker file crucial bill could save c...   \n",
       "3      canada obama watch new prime minister call pr...   \n",
       "4      former nypd vip security detail say hillary d...   \n",
       "...                                                 ...   \n",
       "9995              northern ireland life inside fountain   \n",
       "9996   sweden brink collapse gun purchase way uppepp...   \n",
       "9997   family living traditional lifestyle torn apar...   \n",
       "9998                trump us tragedy congratulate video   \n",
       "9999      president trump attend paris july celebration   \n",
       "\n",
       "                                                   text  Label  \n",
       "0      tension increased week near construction site...      1  \n",
       "1      billboard bay area confirms time impeach trum...      0  \n",
       "2      tuesday senator jose menendez dsan antonio fi...      0  \n",
       "3      global wussification male identifying feminis...      0  \n",
       "4      almost scary idea hillary would lie major hea...      0  \n",
       "...                                                 ...    ...  \n",
       "9995   william jackson remembers exodus vividly prot...      1  \n",
       "9996   politically correct country sweden paying big...      0  \n",
       "9997   conform pay ultimate price police seized ten ...      0  \n",
       "9998   case know explosion lower manhattan saturday ...      0  \n",
       "9999   president donald trump travel france bastille...      1  \n",
       "\n",
       "[10000 rows x 3 columns]"
      ]
     },
     "execution_count": 10,
     "metadata": {},
     "output_type": "execute_result"
    }
   ],
   "source": [
    "training_chunk1 = pd.concat([real_chunks[0],fake_chunks[0]])\n",
    "training_chunk1 = training_chunk1.sample(frac=1).reset_index(drop=True)\n",
    "training_chunk1"
   ]
  },
  {
   "cell_type": "code",
   "execution_count": 11,
   "metadata": {},
   "outputs": [
    {
     "data": {
      "text/plain": [
       "<AxesSubplot:xlabel='Label', ylabel='count'>"
      ]
     },
     "execution_count": 11,
     "metadata": {},
     "output_type": "execute_result"
    },
    {
     "data": {
      "image/png": "[encoded data removed]",
      "text/plain": [
       "<Figure size 432x288 with 1 Axes>"
      ]
     },
     "metadata": {
      "needs_background": "light"
     },
     "output_type": "display_data"
    }
   ],
   "source": [
    "sns.countplot(x= training_chunk1['Label'])"
   ]
  },
  {
   "cell_type": "code",
   "execution_count": 12,
   "metadata": {},
   "outputs": [
    {
     "data": {
      "text/html": [
       "<div>\n",
       "<style scoped>\n",
       "    .dataframe tbody tr th:only-of-type {\n",
       "        vertical-align: middle;\n",
       "    }\n",
       "\n",
       "    .dataframe tbody tr th {\n",
       "        vertical-align: top;\n",
       "    }\n",
       "\n",
       "    .dataframe thead th {\n",
       "        text-align: right;\n",
       "    }\n",
       "</style>\n",
       "<table border=\"1\" class=\"dataframe\">\n",
       "  <thead>\n",
       "    <tr style=\"text-align: right;\">\n",
       "      <th></th>\n",
       "      <th>title</th>\n",
       "      <th>text</th>\n",
       "      <th>Label</th>\n",
       "    </tr>\n",
       "  </thead>\n",
       "  <tbody>\n",
       "    <tr>\n",
       "      <th>0</th>\n",
       "      <td>new museum selects rem koolhaas expansion bowery</td>\n",
       "      <td>photothe new museum may relatively modest bud...</td>\n",
       "      <td>1</td>\n",
       "    </tr>\n",
       "    <tr>\n",
       "      <th>1</th>\n",
       "      <td>macron sharp tongue throw french twitter frenzy</td>\n",
       "      <td>emmanuel macron age brought youth vigor frenc...</td>\n",
       "      <td>1</td>\n",
       "    </tr>\n",
       "    <tr>\n",
       "      <th>2</th>\n",
       "      <td>utah republican defend romney bannons mormon jab</td>\n",
       "      <td>utah republican wednesday rallied around mitt...</td>\n",
       "      <td>1</td>\n",
       "    </tr>\n",
       "    <tr>\n",
       "      <th>3</th>\n",
       "      <td>tillerson warns region using lebanon proxy co...</td>\n",
       "      <td>secretary state rex tillerson friday warned c...</td>\n",
       "      <td>1</td>\n",
       "    </tr>\n",
       "    <tr>\n",
       "      <th>4</th>\n",
       "      <td>mainstream republican fret trump cruz strengt...</td>\n",
       "      <td>two week first contest presidential race repu...</td>\n",
       "      <td>1</td>\n",
       "    </tr>\n",
       "    <tr>\n",
       "      <th>...</th>\n",
       "      <td>...</td>\n",
       "      <td>...</td>\n",
       "      <td>...</td>\n",
       "    </tr>\n",
       "    <tr>\n",
       "      <th>9995</th>\n",
       "      <td>trump asks supreme court block travel ban ruling</td>\n",
       "      <td>justice department friday asked supreme court...</td>\n",
       "      <td>1</td>\n",
       "    </tr>\n",
       "    <tr>\n",
       "      <th>9996</th>\n",
       "      <td>senate pass bill boost travel security brussels</td>\n",
       "      <td>senate tuesday overwhelmingly approved legisl...</td>\n",
       "      <td>1</td>\n",
       "    </tr>\n",
       "    <tr>\n",
       "      <th>9997</th>\n",
       "      <td>hamas say security chief wounded gaza car bom...</td>\n",
       "      <td>hamas security chief gaza strip wounded car b...</td>\n",
       "      <td>1</td>\n",
       "    </tr>\n",
       "    <tr>\n",
       "      <th>9998</th>\n",
       "      <td>trump get handed whining unfair protest</td>\n",
       "      <td>million american vote donald trump tuesday ni...</td>\n",
       "      <td>0</td>\n",
       "    </tr>\n",
       "    <tr>\n",
       "      <th>9999</th>\n",
       "      <td>smart device listening saving everything say ...</td>\n",
       "      <td>rachel blevins idea smart device home phone l...</td>\n",
       "      <td>0</td>\n",
       "    </tr>\n",
       "  </tbody>\n",
       "</table>\n",
       "<p>10000 rows × 3 columns</p>\n",
       "</div>"
      ],
      "text/plain": [
       "                                                  title  \\\n",
       "0      new museum selects rem koolhaas expansion bowery   \n",
       "1       macron sharp tongue throw french twitter frenzy   \n",
       "2      utah republican defend romney bannons mormon jab   \n",
       "3      tillerson warns region using lebanon proxy co...   \n",
       "4      mainstream republican fret trump cruz strengt...   \n",
       "...                                                 ...   \n",
       "9995   trump asks supreme court block travel ban ruling   \n",
       "9996    senate pass bill boost travel security brussels   \n",
       "9997   hamas say security chief wounded gaza car bom...   \n",
       "9998            trump get handed whining unfair protest   \n",
       "9999   smart device listening saving everything say ...   \n",
       "\n",
       "                                                   text  Label  \n",
       "0      photothe new museum may relatively modest bud...      1  \n",
       "1      emmanuel macron age brought youth vigor frenc...      1  \n",
       "2      utah republican wednesday rallied around mitt...      1  \n",
       "3      secretary state rex tillerson friday warned c...      1  \n",
       "4      two week first contest presidential race repu...      1  \n",
       "...                                                 ...    ...  \n",
       "9995   justice department friday asked supreme court...      1  \n",
       "9996   senate tuesday overwhelmingly approved legisl...      1  \n",
       "9997   hamas security chief gaza strip wounded car b...      1  \n",
       "9998   million american vote donald trump tuesday ni...      0  \n",
       "9999   rachel blevins idea smart device home phone l...      0  \n",
       "\n",
       "[10000 rows x 3 columns]"
      ]
     },
     "execution_count": 12,
     "metadata": {},
     "output_type": "execute_result"
    }
   ],
   "source": [
    "training_chunk2 = pd.concat([real_chunks[1],fake_chunks[1]])\n",
    "training_chunk2 = training_chunk2.sample(frac=1).reset_index(drop=True)\n",
    "training_chunk2"
   ]
  },
  {
   "cell_type": "code",
   "execution_count": 13,
   "metadata": {},
   "outputs": [
    {
     "data": {
      "text/html": [
       "<div>\n",
       "<style scoped>\n",
       "    .dataframe tbody tr th:only-of-type {\n",
       "        vertical-align: middle;\n",
       "    }\n",
       "\n",
       "    .dataframe tbody tr th {\n",
       "        vertical-align: top;\n",
       "    }\n",
       "\n",
       "    .dataframe thead th {\n",
       "        text-align: right;\n",
       "    }\n",
       "</style>\n",
       "<table border=\"1\" class=\"dataframe\">\n",
       "  <thead>\n",
       "    <tr style=\"text-align: right;\">\n",
       "      <th></th>\n",
       "      <th>title</th>\n",
       "      <th>text</th>\n",
       "      <th>Label</th>\n",
       "    </tr>\n",
       "  </thead>\n",
       "  <tbody>\n",
       "    <tr>\n",
       "      <th>0</th>\n",
       "      <td>republican ryan raising big money white house...</td>\n",
       "      <td>overlooked speculation running president repu...</td>\n",
       "      <td>1</td>\n",
       "    </tr>\n",
       "    <tr>\n",
       "      <th>1</th>\n",
       "      <td>chicitysports fantasy review week fantasy foo...</td>\n",
       "      <td>chicitysports fantasy review week fantasy foo...</td>\n",
       "      <td>0</td>\n",
       "    </tr>\n",
       "    <tr>\n",
       "      <th>2</th>\n",
       "      <td>insane gop congressman want mentally ill gun ...</td>\n",
       "      <td>year saneminded individual congress alongside...</td>\n",
       "      <td>0</td>\n",
       "    </tr>\n",
       "    <tr>\n",
       "      <th>3</th>\n",
       "      <td>ohio vfw ban nfls cleveland brown viewing ant...</td>\n",
       "      <td>vfw strongsville ohio right exercising freedo...</td>\n",
       "      <td>0</td>\n",
       "    </tr>\n",
       "    <tr>\n",
       "      <th>4</th>\n",
       "      <td>yankee new weapon postseason run</td>\n",
       "      <td>yankee new weapon postseason runbefore newsaa...</td>\n",
       "      <td>0</td>\n",
       "    </tr>\n",
       "    <tr>\n",
       "      <th>...</th>\n",
       "      <td>...</td>\n",
       "      <td>...</td>\n",
       "      <td>...</td>\n",
       "    </tr>\n",
       "    <tr>\n",
       "      <th>9995</th>\n",
       "      <td>prof trump fmr college he true threat america...</td>\n",
       "      <td>donald trump like brag fact attended universi...</td>\n",
       "      <td>0</td>\n",
       "    </tr>\n",
       "    <tr>\n",
       "      <th>9996</th>\n",
       "      <td>minority trump supporter thrown maxine water ...</td>\n",
       "      <td>video begin hispanic man telling videographer...</td>\n",
       "      <td>0</td>\n",
       "    </tr>\n",
       "    <tr>\n",
       "      <th>9997</th>\n",
       "      <td>trump expected order temporary ban refugee</td>\n",
       "      <td>president donald trump expected sign executiv...</td>\n",
       "      <td>1</td>\n",
       "    </tr>\n",
       "    <tr>\n",
       "      <th>9998</th>\n",
       "      <td>liberal imperium quigleys angloamerican estab...</td>\n",
       "      <td>jay dyer century wirethis addendum lecture la...</td>\n",
       "      <td>0</td>\n",
       "    </tr>\n",
       "    <tr>\n",
       "      <th>9999</th>\n",
       "      <td>disgraceful air force longer afford gun salut...</td>\n",
       "      <td>afford give veteran proper funeral got money ...</td>\n",
       "      <td>0</td>\n",
       "    </tr>\n",
       "  </tbody>\n",
       "</table>\n",
       "<p>10000 rows × 3 columns</p>\n",
       "</div>"
      ],
      "text/plain": [
       "                                                  title  \\\n",
       "0      republican ryan raising big money white house...   \n",
       "1      chicitysports fantasy review week fantasy foo...   \n",
       "2      insane gop congressman want mentally ill gun ...   \n",
       "3      ohio vfw ban nfls cleveland brown viewing ant...   \n",
       "4                      yankee new weapon postseason run   \n",
       "...                                                 ...   \n",
       "9995   prof trump fmr college he true threat america...   \n",
       "9996   minority trump supporter thrown maxine water ...   \n",
       "9997         trump expected order temporary ban refugee   \n",
       "9998   liberal imperium quigleys angloamerican estab...   \n",
       "9999   disgraceful air force longer afford gun salut...   \n",
       "\n",
       "                                                   text  Label  \n",
       "0      overlooked speculation running president repu...      1  \n",
       "1      chicitysports fantasy review week fantasy foo...      0  \n",
       "2      year saneminded individual congress alongside...      0  \n",
       "3      vfw strongsville ohio right exercising freedo...      0  \n",
       "4      yankee new weapon postseason runbefore newsaa...      0  \n",
       "...                                                 ...    ...  \n",
       "9995   donald trump like brag fact attended universi...      0  \n",
       "9996   video begin hispanic man telling videographer...      0  \n",
       "9997   president donald trump expected sign executiv...      1  \n",
       "9998   jay dyer century wirethis addendum lecture la...      0  \n",
       "9999   afford give veteran proper funeral got money ...      0  \n",
       "\n",
       "[10000 rows x 3 columns]"
      ]
     },
     "execution_count": 13,
     "metadata": {},
     "output_type": "execute_result"
    }
   ],
   "source": [
    "testing_chunk1 = pd.concat([real_chunks[2],fake_chunks[2]])\n",
    "testing_chunk1 = testing_chunk1.sample(frac=1).reset_index(drop=True)\n",
    "testing_chunk1"
   ]
  },
  {
   "cell_type": "code",
   "execution_count": 14,
   "metadata": {},
   "outputs": [
    {
     "data": {
      "text/html": [
       "<div>\n",
       "<style scoped>\n",
       "    .dataframe tbody tr th:only-of-type {\n",
       "        vertical-align: middle;\n",
       "    }\n",
       "\n",
       "    .dataframe tbody tr th {\n",
       "        vertical-align: top;\n",
       "    }\n",
       "\n",
       "    .dataframe thead th {\n",
       "        text-align: right;\n",
       "    }\n",
       "</style>\n",
       "<table border=\"1\" class=\"dataframe\">\n",
       "  <thead>\n",
       "    <tr style=\"text-align: right;\">\n",
       "      <th></th>\n",
       "      <th>title</th>\n",
       "      <th>text</th>\n",
       "      <th>Label</th>\n",
       "    </tr>\n",
       "  </thead>\n",
       "  <tbody>\n",
       "    <tr>\n",
       "      <th>0</th>\n",
       "      <td>watch trump criticizing time person year poli...</td>\n",
       "      <td>even though former reality show star turned p...</td>\n",
       "      <td>0</td>\n",
       "    </tr>\n",
       "    <tr>\n",
       "      <th>1</th>\n",
       "      <td>someone call waaambulance glenn beck warns he...</td>\n",
       "      <td>hey glenn suicide laughing matter really need...</td>\n",
       "      <td>0</td>\n",
       "    </tr>\n",
       "    <tr>\n",
       "      <th>2</th>\n",
       "      <td>washington post call maine governor resign</td>\n",
       "      <td>washington post wednesday called maine govern...</td>\n",
       "      <td>1</td>\n",
       "    </tr>\n",
       "    <tr>\n",
       "      <th>3</th>\n",
       "      <td>bannon call sen bob corker resign</td>\n",
       "      <td>former white house chief strategist steve ban...</td>\n",
       "      <td>1</td>\n",
       "    </tr>\n",
       "    <tr>\n",
       "      <th>4</th>\n",
       "      <td>dead broke hillary hit swanky salon entourage...</td>\n",
       "      <td>wait thought dead broke like everyday america...</td>\n",
       "      <td>0</td>\n",
       "    </tr>\n",
       "    <tr>\n",
       "      <th>...</th>\n",
       "      <td>...</td>\n",
       "      <td>...</td>\n",
       "      <td>...</td>\n",
       "    </tr>\n",
       "    <tr>\n",
       "      <th>8550</th>\n",
       "      <td>week ranking top wide receiver</td>\n",
       "      <td>week ranking top wide receiver reader think s...</td>\n",
       "      <td>0</td>\n",
       "    </tr>\n",
       "    <tr>\n",
       "      <th>8551</th>\n",
       "      <td>battered coal industry hope trump prepares cl...</td>\n",
       "      <td>republican presidential nominee donald trump ...</td>\n",
       "      <td>1</td>\n",
       "    </tr>\n",
       "    <tr>\n",
       "      <th>8552</th>\n",
       "      <td>trump blast former scottish leader war word g...</td>\n",
       "      <td>republican presidential candidate donald trum...</td>\n",
       "      <td>1</td>\n",
       "    </tr>\n",
       "    <tr>\n",
       "      <th>8553</th>\n",
       "      <td>episode sunday wire ground zero syria guest t...</td>\n",
       "      <td>episode sunday wire show resume sunday septem...</td>\n",
       "      <td>0</td>\n",
       "    </tr>\n",
       "    <tr>\n",
       "      <th>8554</th>\n",
       "      <td>german coalition candidate want percent cut c...</td>\n",
       "      <td>german party exploratory talk forming coaliti...</td>\n",
       "      <td>1</td>\n",
       "    </tr>\n",
       "  </tbody>\n",
       "</table>\n",
       "<p>8555 rows × 3 columns</p>\n",
       "</div>"
      ],
      "text/plain": [
       "                                                  title  \\\n",
       "0      watch trump criticizing time person year poli...   \n",
       "1      someone call waaambulance glenn beck warns he...   \n",
       "2            washington post call maine governor resign   \n",
       "3                     bannon call sen bob corker resign   \n",
       "4      dead broke hillary hit swanky salon entourage...   \n",
       "...                                                 ...   \n",
       "8550                     week ranking top wide receiver   \n",
       "8551   battered coal industry hope trump prepares cl...   \n",
       "8552   trump blast former scottish leader war word g...   \n",
       "8553   episode sunday wire ground zero syria guest t...   \n",
       "8554   german coalition candidate want percent cut c...   \n",
       "\n",
       "                                                   text  Label  \n",
       "0      even though former reality show star turned p...      0  \n",
       "1      hey glenn suicide laughing matter really need...      0  \n",
       "2      washington post wednesday called maine govern...      1  \n",
       "3      former white house chief strategist steve ban...      1  \n",
       "4      wait thought dead broke like everyday america...      0  \n",
       "...                                                 ...    ...  \n",
       "8550   week ranking top wide receiver reader think s...      0  \n",
       "8551   republican presidential nominee donald trump ...      1  \n",
       "8552   republican presidential candidate donald trum...      1  \n",
       "8553   episode sunday wire show resume sunday septem...      0  \n",
       "8554   german party exploratory talk forming coaliti...      1  \n",
       "\n",
       "[8555 rows x 3 columns]"
      ]
     },
     "execution_count": 14,
     "metadata": {},
     "output_type": "execute_result"
    }
   ],
   "source": [
    "testing_chunk2 = pd.concat([real_chunks[3],fake_chunks[3]])\n",
    "testing_chunk2 = testing_chunk2.sample(frac=1).reset_index(drop=True)\n",
    "testing_chunk2"
   ]
  },
  {
   "cell_type": "code",
   "execution_count": 15,
   "metadata": {},
   "outputs": [],
   "source": [
    "training_chunk1.to_csv('data/training_chunks/training_chunk1.csv',index=False)\n",
    "training_chunk2.to_csv('data/training_chunks/training_chunk2.csv',index=False)\n",
    "testing_chunk1.to_csv('data/testing_chunks/testing_chunk1.csv',index=False)\n",
    "testing_chunk2.to_csv('data/testing_chunks/testing_chunk2.csv',index=False)"
   ]
  },
  {
   "cell_type": "code",
   "execution_count": null,
   "metadata": {},
   "outputs": [],
   "source": []
  }
 ],
 "metadata": {
  "kernelspec": {
   "display_name": "Python conda_env",
   "language": "python",
   "name": "conda_env"
  },
  "language_info": {
   "codemirror_mode": {
    "name": "ipython",
    "version": 3
   },
   "file_extension": ".py",
   "mimetype": "text/x-python",
   "name": "python",
   "nbconvert_exporter": "python",
   "pygments_lexer": "ipython3",
   "version": "3.8.5"
  }
 },
 "nbformat": 4,
 "nbformat_minor": 4
}
