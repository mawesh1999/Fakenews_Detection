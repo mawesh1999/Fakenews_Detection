{
 "cells": [
  {
   "cell_type": "code",
   "execution_count": 1,
   "metadata": {},
   "outputs": [],
   "source": [
    "import pandas as pd\n",
    "import numpy as np\n",
    "import seaborn as sns\n",
    "import re"
   ]
  },
  {
   "cell_type": "code",
   "execution_count": 2,
   "metadata": {},
   "outputs": [],
   "source": [
    "df = pd.read_csv('modeling_data/data.csv')"
   ]
  },
  {
   "cell_type": "code",
   "execution_count": 3,
   "metadata": {},
   "outputs": [
    {
     "data": {
      "text/html": [
       "<div>\n",
       "<style scoped>\n",
       "    .dataframe tbody tr th:only-of-type {\n",
       "        vertical-align: middle;\n",
       "    }\n",
       "\n",
       "    .dataframe tbody tr th {\n",
       "        vertical-align: top;\n",
       "    }\n",
       "\n",
       "    .dataframe thead th {\n",
       "        text-align: right;\n",
       "    }\n",
       "</style>\n",
       "<table border=\"1\" class=\"dataframe\">\n",
       "  <thead>\n",
       "    <tr style=\"text-align: right;\">\n",
       "      <th></th>\n",
       "      <th>URLs</th>\n",
       "      <th>Headline</th>\n",
       "      <th>Body</th>\n",
       "      <th>Label</th>\n",
       "    </tr>\n",
       "  </thead>\n",
       "  <tbody>\n",
       "    <tr>\n",
       "      <th>0</th>\n",
       "      <td>http://www.bbc.com/news/world-us-canada-414191...</td>\n",
       "      <td>Four ways Bob Corker skewered Donald Trump</td>\n",
       "      <td>Image copyright Getty Images\\nOn Sunday mornin...</td>\n",
       "      <td>1</td>\n",
       "    </tr>\n",
       "    <tr>\n",
       "      <th>1</th>\n",
       "      <td>https://www.reuters.com/article/us-filmfestiva...</td>\n",
       "      <td>Linklater's war veteran comedy speaks to moder...</td>\n",
       "      <td>LONDON (Reuters) - “Last Flag Flying”, a comed...</td>\n",
       "      <td>1</td>\n",
       "    </tr>\n",
       "    <tr>\n",
       "      <th>2</th>\n",
       "      <td>https://www.nytimes.com/2017/10/09/us/politics...</td>\n",
       "      <td>Trump’s Fight With Corker Jeopardizes His Legi...</td>\n",
       "      <td>The feud broke into public view last week when...</td>\n",
       "      <td>1</td>\n",
       "    </tr>\n",
       "    <tr>\n",
       "      <th>3</th>\n",
       "      <td>https://www.reuters.com/article/us-mexico-oil-...</td>\n",
       "      <td>Egypt's Cheiron wins tie-up with Pemex for Mex...</td>\n",
       "      <td>MEXICO CITY (Reuters) - Egypt’s Cheiron Holdin...</td>\n",
       "      <td>1</td>\n",
       "    </tr>\n",
       "    <tr>\n",
       "      <th>4</th>\n",
       "      <td>http://www.cnn.com/videos/cnnmoney/2017/10/08/...</td>\n",
       "      <td>Jason Aldean opens 'SNL' with Vegas tribute</td>\n",
       "      <td>Country singer Jason Aldean, who was performin...</td>\n",
       "      <td>1</td>\n",
       "    </tr>\n",
       "  </tbody>\n",
       "</table>\n",
       "</div>"
      ],
      "text/plain": [
       "                                                URLs  \\\n",
       "0  http://www.bbc.com/news/world-us-canada-414191...   \n",
       "1  https://www.reuters.com/article/us-filmfestiva...   \n",
       "2  https://www.nytimes.com/2017/10/09/us/politics...   \n",
       "3  https://www.reuters.com/article/us-mexico-oil-...   \n",
       "4  http://www.cnn.com/videos/cnnmoney/2017/10/08/...   \n",
       "\n",
       "                                            Headline  \\\n",
       "0         Four ways Bob Corker skewered Donald Trump   \n",
       "1  Linklater's war veteran comedy speaks to moder...   \n",
       "2  Trump’s Fight With Corker Jeopardizes His Legi...   \n",
       "3  Egypt's Cheiron wins tie-up with Pemex for Mex...   \n",
       "4        Jason Aldean opens 'SNL' with Vegas tribute   \n",
       "\n",
       "                                                Body  Label  \n",
       "0  Image copyright Getty Images\\nOn Sunday mornin...      1  \n",
       "1  LONDON (Reuters) - “Last Flag Flying”, a comed...      1  \n",
       "2  The feud broke into public view last week when...      1  \n",
       "3  MEXICO CITY (Reuters) - Egypt’s Cheiron Holdin...      1  \n",
       "4  Country singer Jason Aldean, who was performin...      1  "
      ]
     },
     "execution_count": 3,
     "metadata": {},
     "output_type": "execute_result"
    }
   ],
   "source": [
    "df.head()"
   ]
  },
  {
   "cell_type": "code",
   "execution_count": 4,
   "metadata": {},
   "outputs": [
    {
     "data": {
      "text/html": [
       "<div>\n",
       "<style scoped>\n",
       "    .dataframe tbody tr th:only-of-type {\n",
       "        vertical-align: middle;\n",
       "    }\n",
       "\n",
       "    .dataframe tbody tr th {\n",
       "        vertical-align: top;\n",
       "    }\n",
       "\n",
       "    .dataframe thead th {\n",
       "        text-align: right;\n",
       "    }\n",
       "</style>\n",
       "<table border=\"1\" class=\"dataframe\">\n",
       "  <thead>\n",
       "    <tr style=\"text-align: right;\">\n",
       "      <th></th>\n",
       "      <th>URLs</th>\n",
       "      <th>Headline</th>\n",
       "      <th>Body</th>\n",
       "      <th>Label</th>\n",
       "    </tr>\n",
       "  </thead>\n",
       "  <tbody>\n",
       "    <tr>\n",
       "      <th>4004</th>\n",
       "      <td>http://beforeitsnews.com/sports/2017/09/trends...</td>\n",
       "      <td>Trends to Watch</td>\n",
       "      <td>Trends to Watch\\n% of readers think this story...</td>\n",
       "      <td>0</td>\n",
       "    </tr>\n",
       "    <tr>\n",
       "      <th>4005</th>\n",
       "      <td>http://beforeitsnews.com/u-s-politics/2017/10/...</td>\n",
       "      <td>Trump Jr. Is Soon To Give A 30-Minute Speech F...</td>\n",
       "      <td>Trump Jr. Is Soon To Give A 30-Minute Speech F...</td>\n",
       "      <td>0</td>\n",
       "    </tr>\n",
       "    <tr>\n",
       "      <th>4006</th>\n",
       "      <td>https://www.activistpost.com/2017/09/ron-paul-...</td>\n",
       "      <td>Ron Paul on Trump, Anarchism &amp; the AltRight</td>\n",
       "      <td>NaN</td>\n",
       "      <td>0</td>\n",
       "    </tr>\n",
       "    <tr>\n",
       "      <th>4007</th>\n",
       "      <td>https://www.reuters.com/article/us-china-pharm...</td>\n",
       "      <td>China to accept overseas trial data in bid to ...</td>\n",
       "      <td>SHANGHAI (Reuters) - China said it plans to ac...</td>\n",
       "      <td>1</td>\n",
       "    </tr>\n",
       "    <tr>\n",
       "      <th>4008</th>\n",
       "      <td>http://beforeitsnews.com/u-s-politics/2017/10/...</td>\n",
       "      <td>Vice President Mike Pence Leaves NFL Game Beca...</td>\n",
       "      <td>Vice President Mike Pence Leaves NFL Game Beca...</td>\n",
       "      <td>0</td>\n",
       "    </tr>\n",
       "  </tbody>\n",
       "</table>\n",
       "</div>"
      ],
      "text/plain": [
       "                                                   URLs  \\\n",
       "4004  http://beforeitsnews.com/sports/2017/09/trends...   \n",
       "4005  http://beforeitsnews.com/u-s-politics/2017/10/...   \n",
       "4006  https://www.activistpost.com/2017/09/ron-paul-...   \n",
       "4007  https://www.reuters.com/article/us-china-pharm...   \n",
       "4008  http://beforeitsnews.com/u-s-politics/2017/10/...   \n",
       "\n",
       "                                               Headline  \\\n",
       "4004                                    Trends to Watch   \n",
       "4005  Trump Jr. Is Soon To Give A 30-Minute Speech F...   \n",
       "4006        Ron Paul on Trump, Anarchism & the AltRight   \n",
       "4007  China to accept overseas trial data in bid to ...   \n",
       "4008  Vice President Mike Pence Leaves NFL Game Beca...   \n",
       "\n",
       "                                                   Body  Label  \n",
       "4004  Trends to Watch\\n% of readers think this story...      0  \n",
       "4005  Trump Jr. Is Soon To Give A 30-Minute Speech F...      0  \n",
       "4006                                                NaN      0  \n",
       "4007  SHANGHAI (Reuters) - China said it plans to ac...      1  \n",
       "4008  Vice President Mike Pence Leaves NFL Game Beca...      0  "
      ]
     },
     "execution_count": 4,
     "metadata": {},
     "output_type": "execute_result"
    }
   ],
   "source": [
    "df.tail()"
   ]
  },
  {
   "cell_type": "code",
   "execution_count": 5,
   "metadata": {},
   "outputs": [
    {
     "name": "stdout",
     "output_type": "stream",
     "text": [
      "<class 'pandas.core.frame.DataFrame'>\n",
      "RangeIndex: 4009 entries, 0 to 4008\n",
      "Data columns (total 4 columns):\n",
      " #   Column    Non-Null Count  Dtype \n",
      "---  ------    --------------  ----- \n",
      " 0   URLs      4009 non-null   object\n",
      " 1   Headline  4009 non-null   object\n",
      " 2   Body      3988 non-null   object\n",
      " 3   Label     4009 non-null   int64 \n",
      "dtypes: int64(1), object(3)\n",
      "memory usage: 125.4+ KB\n"
     ]
    }
   ],
   "source": [
    "df.info()"
   ]
  },
  {
   "cell_type": "code",
   "execution_count": 6,
   "metadata": {},
   "outputs": [
    {
     "data": {
      "text/html": [
       "<div>\n",
       "<style scoped>\n",
       "    .dataframe tbody tr th:only-of-type {\n",
       "        vertical-align: middle;\n",
       "    }\n",
       "\n",
       "    .dataframe tbody tr th {\n",
       "        vertical-align: top;\n",
       "    }\n",
       "\n",
       "    .dataframe thead th {\n",
       "        text-align: right;\n",
       "    }\n",
       "</style>\n",
       "<table border=\"1\" class=\"dataframe\">\n",
       "  <thead>\n",
       "    <tr style=\"text-align: right;\">\n",
       "      <th></th>\n",
       "      <th>URLs</th>\n",
       "      <th>Headline</th>\n",
       "      <th>Body</th>\n",
       "      <th>Label</th>\n",
       "    </tr>\n",
       "  </thead>\n",
       "  <tbody>\n",
       "    <tr>\n",
       "      <th>247</th>\n",
       "      <td>https://www.nytimes.com/interactive/2017/10/12...</td>\n",
       "      <td>Read Al Green's Resolution to Impeach Donald T...</td>\n",
       "      <td>NaN</td>\n",
       "      <td>1</td>\n",
       "    </tr>\n",
       "    <tr>\n",
       "      <th>269</th>\n",
       "      <td>https://www.nytimes.com/2017/10/10/magazine/th...</td>\n",
       "      <td>The Prophet of Germany’s New Right</td>\n",
       "      <td>NaN</td>\n",
       "      <td>1</td>\n",
       "    </tr>\n",
       "    <tr>\n",
       "      <th>325</th>\n",
       "      <td>http://edition.cnn.com/interactive/2017/10/mid...</td>\n",
       "      <td>Hunting the terror group from 70,000ft</td>\n",
       "      <td>NaN</td>\n",
       "      <td>1</td>\n",
       "    </tr>\n",
       "    <tr>\n",
       "      <th>395</th>\n",
       "      <td>http://beforeitsnews.com/entertainment/2017/09...</td>\n",
       "      <td>10 Shocking Facts About Porn You Probably Didn...</td>\n",
       "      <td>NaN</td>\n",
       "      <td>0</td>\n",
       "    </tr>\n",
       "    <tr>\n",
       "      <th>509</th>\n",
       "      <td>http://beforeitsnews.com/sports/2017/10/105-tr...</td>\n",
       "      <td>10/5 TRS-PNC Park: Bucs Win in '71, '79; Lose ...</td>\n",
       "      <td>NaN</td>\n",
       "      <td>0</td>\n",
       "    </tr>\n",
       "    <tr>\n",
       "      <th>882</th>\n",
       "      <td>http://beforeitsnews.com/sports/2017/10/103-ha...</td>\n",
       "      <td>10/3 Happenings: HBD Cap, Johnny, Dog, Tomato,...</td>\n",
       "      <td>NaN</td>\n",
       "      <td>0</td>\n",
       "    </tr>\n",
       "    <tr>\n",
       "      <th>973</th>\n",
       "      <td>http://beforeitsnews.com/sports/2017/10/ravens...</td>\n",
       "      <td>Ravens @ Raiders - Wednesday</td>\n",
       "      <td>NaN</td>\n",
       "      <td>0</td>\n",
       "    </tr>\n",
       "    <tr>\n",
       "      <th>981</th>\n",
       "      <td>http://beforeitsnews.com/sports/2017/10/104-tr...</td>\n",
       "      <td>10/4 TRS-PNC Park Era: Reds Thump Buc 3x in Pl...</td>\n",
       "      <td>NaN</td>\n",
       "      <td>0</td>\n",
       "    </tr>\n",
       "    <tr>\n",
       "      <th>1006</th>\n",
       "      <td>https://www.activistpost.com/2017/09/scientist...</td>\n",
       "      <td>A Comprehensive Database on Chemtrails and Wea...</td>\n",
       "      <td>NaN</td>\n",
       "      <td>0</td>\n",
       "    </tr>\n",
       "    <tr>\n",
       "      <th>1133</th>\n",
       "      <td>http://beforeitsnews.com/sports/2017/10/106-hb...</td>\n",
       "      <td>10/6: HBD Eddie, Tom, Gene, Jeff, Joel &amp; Radha...</td>\n",
       "      <td>NaN</td>\n",
       "      <td>0</td>\n",
       "    </tr>\n",
       "    <tr>\n",
       "      <th>1210</th>\n",
       "      <td>http://beforeitsnews.com/sports/2017/10/105-ex...</td>\n",
       "      <td>10/5 Expo Park-Forbes Field: Bucs Win '60 Open...</td>\n",
       "      <td>NaN</td>\n",
       "      <td>0</td>\n",
       "    </tr>\n",
       "    <tr>\n",
       "      <th>1500</th>\n",
       "      <td>http://beforeitsnews.com/u-s-politics/2017/09/...</td>\n",
       "      <td>Full Text: New Travel Restrictions issued 9/24/17</td>\n",
       "      <td>NaN</td>\n",
       "      <td>0</td>\n",
       "    </tr>\n",
       "    <tr>\n",
       "      <th>1785</th>\n",
       "      <td>http://beforeitsnews.com/sports/2017/10/ravens...</td>\n",
       "      <td>Ravens @ Raiders - Thursday</td>\n",
       "      <td>NaN</td>\n",
       "      <td>0</td>\n",
       "    </tr>\n",
       "    <tr>\n",
       "      <th>2254</th>\n",
       "      <td>https://www.activistpost.com/2017/09/new-un-re...</td>\n",
       "      <td>New U.N. Report Cites Terrorists, Blames Assad...</td>\n",
       "      <td>NaN</td>\n",
       "      <td>0</td>\n",
       "    </tr>\n",
       "    <tr>\n",
       "      <th>2302</th>\n",
       "      <td>https://www.activistpost.com/2017/09/the-kurdi...</td>\n",
       "      <td>Why Federalization In Syria And The Creation O...</td>\n",
       "      <td>NaN</td>\n",
       "      <td>0</td>\n",
       "    </tr>\n",
       "    <tr>\n",
       "      <th>2709</th>\n",
       "      <td>http://beforeitsnews.com/sports/2017/10/106-po...</td>\n",
       "      <td>10/6 Post-Season: WS: Beat Boston,Lose Two To ...</td>\n",
       "      <td>NaN</td>\n",
       "      <td>0</td>\n",
       "    </tr>\n",
       "    <tr>\n",
       "      <th>2959</th>\n",
       "      <td>http://beforeitsnews.com/sports/2017/10/103-ex...</td>\n",
       "      <td>10/3 Expo Park-Forbes Field Era: Pirates, Gray...</td>\n",
       "      <td>NaN</td>\n",
       "      <td>0</td>\n",
       "    </tr>\n",
       "    <tr>\n",
       "      <th>3108</th>\n",
       "      <td>https://www.nytimes.com/interactive/2017/10/07...</td>\n",
       "      <td>Here's the Democracy Alliance's 'Resistance Map'</td>\n",
       "      <td>NaN</td>\n",
       "      <td>1</td>\n",
       "    </tr>\n",
       "    <tr>\n",
       "      <th>3316</th>\n",
       "      <td>http://beforeitsnews.com/sports/2017/10/104-ex...</td>\n",
       "      <td>10/4 Expo Park-Forbes Field Era: '08 To the Wi...</td>\n",
       "      <td>NaN</td>\n",
       "      <td>0</td>\n",
       "    </tr>\n",
       "    <tr>\n",
       "      <th>3377</th>\n",
       "      <td>http://beforeitsnews.com/sports/2017/10/103-tr...</td>\n",
       "      <td>10/3 TRS-PNC Park Era: Bucs Win a Couple, Lose...</td>\n",
       "      <td>NaN</td>\n",
       "      <td>0</td>\n",
       "    </tr>\n",
       "    <tr>\n",
       "      <th>4006</th>\n",
       "      <td>https://www.activistpost.com/2017/09/ron-paul-...</td>\n",
       "      <td>Ron Paul on Trump, Anarchism &amp; the AltRight</td>\n",
       "      <td>NaN</td>\n",
       "      <td>0</td>\n",
       "    </tr>\n",
       "  </tbody>\n",
       "</table>\n",
       "</div>"
      ],
      "text/plain": [
       "                                                   URLs  \\\n",
       "247   https://www.nytimes.com/interactive/2017/10/12...   \n",
       "269   https://www.nytimes.com/2017/10/10/magazine/th...   \n",
       "325   http://edition.cnn.com/interactive/2017/10/mid...   \n",
       "395   http://beforeitsnews.com/entertainment/2017/09...   \n",
       "509   http://beforeitsnews.com/sports/2017/10/105-tr...   \n",
       "882   http://beforeitsnews.com/sports/2017/10/103-ha...   \n",
       "973   http://beforeitsnews.com/sports/2017/10/ravens...   \n",
       "981   http://beforeitsnews.com/sports/2017/10/104-tr...   \n",
       "1006  https://www.activistpost.com/2017/09/scientist...   \n",
       "1133  http://beforeitsnews.com/sports/2017/10/106-hb...   \n",
       "1210  http://beforeitsnews.com/sports/2017/10/105-ex...   \n",
       "1500  http://beforeitsnews.com/u-s-politics/2017/09/...   \n",
       "1785  http://beforeitsnews.com/sports/2017/10/ravens...   \n",
       "2254  https://www.activistpost.com/2017/09/new-un-re...   \n",
       "2302  https://www.activistpost.com/2017/09/the-kurdi...   \n",
       "2709  http://beforeitsnews.com/sports/2017/10/106-po...   \n",
       "2959  http://beforeitsnews.com/sports/2017/10/103-ex...   \n",
       "3108  https://www.nytimes.com/interactive/2017/10/07...   \n",
       "3316  http://beforeitsnews.com/sports/2017/10/104-ex...   \n",
       "3377  http://beforeitsnews.com/sports/2017/10/103-tr...   \n",
       "4006  https://www.activistpost.com/2017/09/ron-paul-...   \n",
       "\n",
       "                                               Headline Body  Label  \n",
       "247   Read Al Green's Resolution to Impeach Donald T...  NaN      1  \n",
       "269                  The Prophet of Germany’s New Right  NaN      1  \n",
       "325              Hunting the terror group from 70,000ft  NaN      1  \n",
       "395   10 Shocking Facts About Porn You Probably Didn...  NaN      0  \n",
       "509   10/5 TRS-PNC Park: Bucs Win in '71, '79; Lose ...  NaN      0  \n",
       "882   10/3 Happenings: HBD Cap, Johnny, Dog, Tomato,...  NaN      0  \n",
       "973                        Ravens @ Raiders - Wednesday  NaN      0  \n",
       "981   10/4 TRS-PNC Park Era: Reds Thump Buc 3x in Pl...  NaN      0  \n",
       "1006  A Comprehensive Database on Chemtrails and Wea...  NaN      0  \n",
       "1133  10/6: HBD Eddie, Tom, Gene, Jeff, Joel & Radha...  NaN      0  \n",
       "1210  10/5 Expo Park-Forbes Field: Bucs Win '60 Open...  NaN      0  \n",
       "1500  Full Text: New Travel Restrictions issued 9/24/17  NaN      0  \n",
       "1785                        Ravens @ Raiders - Thursday  NaN      0  \n",
       "2254  New U.N. Report Cites Terrorists, Blames Assad...  NaN      0  \n",
       "2302  Why Federalization In Syria And The Creation O...  NaN      0  \n",
       "2709  10/6 Post-Season: WS: Beat Boston,Lose Two To ...  NaN      0  \n",
       "2959  10/3 Expo Park-Forbes Field Era: Pirates, Gray...  NaN      0  \n",
       "3108   Here's the Democracy Alliance's 'Resistance Map'  NaN      1  \n",
       "3316  10/4 Expo Park-Forbes Field Era: '08 To the Wi...  NaN      0  \n",
       "3377  10/3 TRS-PNC Park Era: Bucs Win a Couple, Lose...  NaN      0  \n",
       "4006        Ron Paul on Trump, Anarchism & the AltRight  NaN      0  "
      ]
     },
     "execution_count": 6,
     "metadata": {},
     "output_type": "execute_result"
    }
   ],
   "source": [
    "df[df['Body'].isnull()]"
   ]
  },
  {
   "cell_type": "code",
   "execution_count": 7,
   "metadata": {},
   "outputs": [],
   "source": [
    "df.dropna(inplace=True,axis=0) # dropping null values"
   ]
  },
  {
   "cell_type": "code",
   "execution_count": 8,
   "metadata": {},
   "outputs": [
    {
     "name": "stdout",
     "output_type": "stream",
     "text": [
      "<class 'pandas.core.frame.DataFrame'>\n",
      "Int64Index: 3988 entries, 0 to 4008\n",
      "Data columns (total 4 columns):\n",
      " #   Column    Non-Null Count  Dtype \n",
      "---  ------    --------------  ----- \n",
      " 0   URLs      3988 non-null   object\n",
      " 1   Headline  3988 non-null   object\n",
      " 2   Body      3988 non-null   object\n",
      " 3   Label     3988 non-null   int64 \n",
      "dtypes: int64(1), object(3)\n",
      "memory usage: 155.8+ KB\n"
     ]
    }
   ],
   "source": [
    "df.info()"
   ]
  },
  {
   "cell_type": "code",
   "execution_count": 9,
   "metadata": {},
   "outputs": [
    {
     "data": {
      "text/plain": [
       "<AxesSubplot:xlabel='Label', ylabel='count'>"
      ]
     },
     "execution_count": 9,
     "metadata": {},
     "output_type": "execute_result"
    },
    {
     "data": {
      "image/png": "[encoded data removed]",
      "text/plain": [
       "<Figure size 432x288 with 1 Axes>"
      ]
     },
     "metadata": {
      "needs_background": "light"
     },
     "output_type": "display_data"
    }
   ],
   "source": [
    "# class imbalance\n",
    "sns.countplot(x= df['Label'])"
   ]
  },
  {
   "cell_type": "code",
   "execution_count": 10,
   "metadata": {},
   "outputs": [],
   "source": [
    "df.rename(columns = {'URLs' : 'Author_website'},inplace=True)"
   ]
  },
  {
   "cell_type": "code",
   "execution_count": 11,
   "metadata": {},
   "outputs": [
    {
     "data": {
      "text/plain": [
       "Index(['Author_website', 'Headline', 'Body', 'Label'], dtype='object')"
      ]
     },
     "execution_count": 11,
     "metadata": {},
     "output_type": "execute_result"
    }
   ],
   "source": [
    "df.columns"
   ]
  },
  {
   "cell_type": "code",
   "execution_count": 12,
   "metadata": {},
   "outputs": [],
   "source": [
    "def extract_wesite(sample):\n",
    "    k = sample.split('/')\n",
    "    return k[2]"
   ]
  },
  {
   "cell_type": "code",
   "execution_count": 13,
   "metadata": {},
   "outputs": [],
   "source": [
    "df['Author_website'] = df['Author_website'].apply(extract_wesite)"
   ]
  },
  {
   "cell_type": "code",
   "execution_count": 14,
   "metadata": {},
   "outputs": [
    {
     "data": {
      "text/plain": [
       "array(['www.bbc.com', 'www.reuters.com', 'www.nytimes.com', 'www.cnn.com',\n",
       "       'beforeitsnews.com', 'www.activistpost.com', 'dailybuzzlive.com',\n",
       "       'www.disclose.tv', 'abcnews.go.com', 'money.cnn.com',\n",
       "       'edition.cnn.com', 'www.bbc.co.uk', 'inhealth.cnn.com',\n",
       "       'bleacherreport.com', 'clarivate.com', 'reuters.com',\n",
       "       'api.content-ad.net', 'cnn.it', 'thelab.bleacherreport.com'],\n",
       "      dtype=object)"
      ]
     },
     "execution_count": 14,
     "metadata": {},
     "output_type": "execute_result"
    }
   ],
   "source": [
    "df['Author_website'].unique()"
   ]
  },
  {
   "cell_type": "code",
   "execution_count": 15,
   "metadata": {},
   "outputs": [
    {
     "data": {
      "text/html": [
       "<div>\n",
       "<style scoped>\n",
       "    .dataframe tbody tr th:only-of-type {\n",
       "        vertical-align: middle;\n",
       "    }\n",
       "\n",
       "    .dataframe tbody tr th {\n",
       "        vertical-align: top;\n",
       "    }\n",
       "\n",
       "    .dataframe thead th {\n",
       "        text-align: right;\n",
       "    }\n",
       "</style>\n",
       "<table border=\"1\" class=\"dataframe\">\n",
       "  <thead>\n",
       "    <tr style=\"text-align: right;\">\n",
       "      <th></th>\n",
       "      <th>Author_website</th>\n",
       "      <th>Headline</th>\n",
       "      <th>Body</th>\n",
       "      <th>Label</th>\n",
       "    </tr>\n",
       "  </thead>\n",
       "  <tbody>\n",
       "    <tr>\n",
       "      <th>1742</th>\n",
       "      <td>api.content-ad.net</td>\n",
       "      <td>Eight Cars that are hard to Depreciate</td>\n",
       "      <td>Please follow and like us:\\n \\nYou will surely...</td>\n",
       "      <td>0</td>\n",
       "    </tr>\n",
       "    <tr>\n",
       "      <th>3244</th>\n",
       "      <td>api.content-ad.net</td>\n",
       "      <td>Eight Cars that are hard to Depreciate</td>\n",
       "      <td>Please follow and like us:\\n \\nYou will surely...</td>\n",
       "      <td>0</td>\n",
       "    </tr>\n",
       "  </tbody>\n",
       "</table>\n",
       "</div>"
      ],
      "text/plain": [
       "          Author_website                                Headline  \\\n",
       "1742  api.content-ad.net  Eight Cars that are hard to Depreciate   \n",
       "3244  api.content-ad.net  Eight Cars that are hard to Depreciate   \n",
       "\n",
       "                                                   Body  Label  \n",
       "1742  Please follow and like us:\\n \\nYou will surely...      0  \n",
       "3244  Please follow and like us:\\n \\nYou will surely...      0  "
      ]
     },
     "execution_count": 15,
     "metadata": {},
     "output_type": "execute_result"
    }
   ],
   "source": [
    "# theres one value which is not a website 'api.content-ad.net' and they are fake\n",
    "df[df['Author_website']=='api.content-ad.net']"
   ]
  },
  {
   "cell_type": "code",
   "execution_count": 16,
   "metadata": {},
   "outputs": [],
   "source": [
    "df.drop(df[df['Author_website']=='api.content-ad.net'].index,axis = 0,inplace =True)"
   ]
  },
  {
   "cell_type": "code",
   "execution_count": 17,
   "metadata": {},
   "outputs": [
    {
     "data": {
      "text/plain": [
       "array(['www.bbc.com', 'www.reuters.com', 'www.nytimes.com', 'www.cnn.com',\n",
       "       'beforeitsnews.com', 'www.activistpost.com', 'dailybuzzlive.com',\n",
       "       'www.disclose.tv', 'abcnews.go.com', 'money.cnn.com',\n",
       "       'edition.cnn.com', 'www.bbc.co.uk', 'inhealth.cnn.com',\n",
       "       'bleacherreport.com', 'clarivate.com', 'reuters.com', 'cnn.it',\n",
       "       'thelab.bleacherreport.com'], dtype=object)"
      ]
     },
     "execution_count": 17,
     "metadata": {},
     "output_type": "execute_result"
    }
   ],
   "source": [
    "df['Author_website'].unique()"
   ]
  },
  {
   "cell_type": "code",
   "execution_count": 18,
   "metadata": {},
   "outputs": [],
   "source": [
    "def func(x):\n",
    "    map_website = {'www.bbc.com':'BBC', 'www.reuters.com':'REUTERS', 'www.nytimes.com':'NYTIMES', 'www.cnn.com':'CNN',\n",
    "       'beforeitsnews.com':'BEFOREITNEWS', 'www.activistpost.com':'ACTIVISTPOST', 'dailybuzzlive.com':'DAILYBUZZLIVE',\n",
    "       'www.disclose.tv':'DISCLOSE', 'abcnews.go.com':'ABCNEWS', 'money.cnn.com':'CNN',\n",
    "       'edition.cnn.com':'CNN', 'www.bbc.co.uk':'BBC', 'inhealth.cnn.com':'CNN',\n",
    "       'bleacherreport.com':'BLEACHERREPORT', 'clarivate.com':'CLARIVATE', 'reuters.com':'REAUTERS', 'cnn.it':'CNN',\n",
    "       'thelab.bleacherreport.com':'BLEACHERREPORT'}\n",
    "    if x in map_website.keys():\n",
    "        return map_website[x]"
   ]
  },
  {
   "cell_type": "code",
   "execution_count": 19,
   "metadata": {},
   "outputs": [],
   "source": [
    "df['Author_website']=df['Author_website'].apply(func)"
   ]
  },
  {
   "cell_type": "code",
   "execution_count": 20,
   "metadata": {},
   "outputs": [
    {
     "data": {
      "text/plain": [
       "array(['BBC', 'REUTERS', 'NYTIMES', 'CNN', 'BEFOREITNEWS', 'ACTIVISTPOST',\n",
       "       'DAILYBUZZLIVE', 'DISCLOSE', 'ABCNEWS', 'BLEACHERREPORT',\n",
       "       'CLARIVATE', 'REAUTERS'], dtype=object)"
      ]
     },
     "execution_count": 20,
     "metadata": {},
     "output_type": "execute_result"
    }
   ],
   "source": [
    "df['Author_website'].unique()"
   ]
  },
  {
   "cell_type": "code",
   "execution_count": 21,
   "metadata": {},
   "outputs": [
    {
     "data": {
      "text/html": [
       "<div>\n",
       "<style scoped>\n",
       "    .dataframe tbody tr th:only-of-type {\n",
       "        vertical-align: middle;\n",
       "    }\n",
       "\n",
       "    .dataframe tbody tr th {\n",
       "        vertical-align: top;\n",
       "    }\n",
       "\n",
       "    .dataframe thead th {\n",
       "        text-align: right;\n",
       "    }\n",
       "</style>\n",
       "<table border=\"1\" class=\"dataframe\">\n",
       "  <thead>\n",
       "    <tr style=\"text-align: right;\">\n",
       "      <th></th>\n",
       "      <th>Author_website</th>\n",
       "      <th>Headline</th>\n",
       "      <th>Body</th>\n",
       "      <th>Label</th>\n",
       "    </tr>\n",
       "  </thead>\n",
       "  <tbody>\n",
       "    <tr>\n",
       "      <th>0</th>\n",
       "      <td>BBC</td>\n",
       "      <td>Four ways Bob Corker skewered Donald Trump</td>\n",
       "      <td>Image copyright Getty Images\\nOn Sunday mornin...</td>\n",
       "      <td>1</td>\n",
       "    </tr>\n",
       "    <tr>\n",
       "      <th>1</th>\n",
       "      <td>REUTERS</td>\n",
       "      <td>Linklater's war veteran comedy speaks to moder...</td>\n",
       "      <td>LONDON (Reuters) - “Last Flag Flying”, a comed...</td>\n",
       "      <td>1</td>\n",
       "    </tr>\n",
       "    <tr>\n",
       "      <th>2</th>\n",
       "      <td>NYTIMES</td>\n",
       "      <td>Trump’s Fight With Corker Jeopardizes His Legi...</td>\n",
       "      <td>The feud broke into public view last week when...</td>\n",
       "      <td>1</td>\n",
       "    </tr>\n",
       "    <tr>\n",
       "      <th>3</th>\n",
       "      <td>REUTERS</td>\n",
       "      <td>Egypt's Cheiron wins tie-up with Pemex for Mex...</td>\n",
       "      <td>MEXICO CITY (Reuters) - Egypt’s Cheiron Holdin...</td>\n",
       "      <td>1</td>\n",
       "    </tr>\n",
       "    <tr>\n",
       "      <th>4</th>\n",
       "      <td>CNN</td>\n",
       "      <td>Jason Aldean opens 'SNL' with Vegas tribute</td>\n",
       "      <td>Country singer Jason Aldean, who was performin...</td>\n",
       "      <td>1</td>\n",
       "    </tr>\n",
       "  </tbody>\n",
       "</table>\n",
       "</div>"
      ],
      "text/plain": [
       "  Author_website                                           Headline  \\\n",
       "0            BBC         Four ways Bob Corker skewered Donald Trump   \n",
       "1        REUTERS  Linklater's war veteran comedy speaks to moder...   \n",
       "2        NYTIMES  Trump’s Fight With Corker Jeopardizes His Legi...   \n",
       "3        REUTERS  Egypt's Cheiron wins tie-up with Pemex for Mex...   \n",
       "4            CNN        Jason Aldean opens 'SNL' with Vegas tribute   \n",
       "\n",
       "                                                Body  Label  \n",
       "0  Image copyright Getty Images\\nOn Sunday mornin...      1  \n",
       "1  LONDON (Reuters) - “Last Flag Flying”, a comed...      1  \n",
       "2  The feud broke into public view last week when...      1  \n",
       "3  MEXICO CITY (Reuters) - Egypt’s Cheiron Holdin...      1  \n",
       "4  Country singer Jason Aldean, who was performin...      1  "
      ]
     },
     "execution_count": 21,
     "metadata": {},
     "output_type": "execute_result"
    }
   ],
   "source": [
    "df.head()"
   ]
  },
  {
   "cell_type": "code",
   "execution_count": 22,
   "metadata": {},
   "outputs": [],
   "source": [
    "def clean_text(sample):\n",
    "    sample = re.sub(r'[^\\w\\s]','',sample)\n",
    "    sample = re.sub(r'\\n','',sample)\n",
    "    return sample"
   ]
  },
  {
   "cell_type": "code",
   "execution_count": 23,
   "metadata": {},
   "outputs": [],
   "source": [
    "df['Body'] = df['Body'].apply(clean_text)\n",
    "df['Headline'] = df['Headline'].apply(clean_text)"
   ]
  },
  {
   "cell_type": "code",
   "execution_count": 24,
   "metadata": {},
   "outputs": [
    {
     "data": {
      "text/html": [
       "<div>\n",
       "<style scoped>\n",
       "    .dataframe tbody tr th:only-of-type {\n",
       "        vertical-align: middle;\n",
       "    }\n",
       "\n",
       "    .dataframe tbody tr th {\n",
       "        vertical-align: top;\n",
       "    }\n",
       "\n",
       "    .dataframe thead th {\n",
       "        text-align: right;\n",
       "    }\n",
       "</style>\n",
       "<table border=\"1\" class=\"dataframe\">\n",
       "  <thead>\n",
       "    <tr style=\"text-align: right;\">\n",
       "      <th></th>\n",
       "      <th>Author_website</th>\n",
       "      <th>Headline</th>\n",
       "      <th>Body</th>\n",
       "      <th>Label</th>\n",
       "    </tr>\n",
       "  </thead>\n",
       "  <tbody>\n",
       "    <tr>\n",
       "      <th>0</th>\n",
       "      <td>BBC</td>\n",
       "      <td>Four ways Bob Corker skewered Donald Trump</td>\n",
       "      <td>Image copyright Getty ImagesOn Sunday morning ...</td>\n",
       "      <td>1</td>\n",
       "    </tr>\n",
       "    <tr>\n",
       "      <th>1</th>\n",
       "      <td>REUTERS</td>\n",
       "      <td>Linklaters war veteran comedy speaks to modern...</td>\n",
       "      <td>LONDON Reuters  Last Flag Flying a comedydrama...</td>\n",
       "      <td>1</td>\n",
       "    </tr>\n",
       "    <tr>\n",
       "      <th>2</th>\n",
       "      <td>NYTIMES</td>\n",
       "      <td>Trumps Fight With Corker Jeopardizes His Legis...</td>\n",
       "      <td>The feud broke into public view last week when...</td>\n",
       "      <td>1</td>\n",
       "    </tr>\n",
       "    <tr>\n",
       "      <th>3</th>\n",
       "      <td>REUTERS</td>\n",
       "      <td>Egypts Cheiron wins tieup with Pemex for Mexic...</td>\n",
       "      <td>MEXICO CITY Reuters  Egypts Cheiron Holdings L...</td>\n",
       "      <td>1</td>\n",
       "    </tr>\n",
       "    <tr>\n",
       "      <th>4</th>\n",
       "      <td>CNN</td>\n",
       "      <td>Jason Aldean opens SNL with Vegas tribute</td>\n",
       "      <td>Country singer Jason Aldean who was performing...</td>\n",
       "      <td>1</td>\n",
       "    </tr>\n",
       "  </tbody>\n",
       "</table>\n",
       "</div>"
      ],
      "text/plain": [
       "  Author_website                                           Headline  \\\n",
       "0            BBC         Four ways Bob Corker skewered Donald Trump   \n",
       "1        REUTERS  Linklaters war veteran comedy speaks to modern...   \n",
       "2        NYTIMES  Trumps Fight With Corker Jeopardizes His Legis...   \n",
       "3        REUTERS  Egypts Cheiron wins tieup with Pemex for Mexic...   \n",
       "4            CNN          Jason Aldean opens SNL with Vegas tribute   \n",
       "\n",
       "                                                Body  Label  \n",
       "0  Image copyright Getty ImagesOn Sunday morning ...      1  \n",
       "1  LONDON Reuters  Last Flag Flying a comedydrama...      1  \n",
       "2  The feud broke into public view last week when...      1  \n",
       "3  MEXICO CITY Reuters  Egypts Cheiron Holdings L...      1  \n",
       "4  Country singer Jason Aldean who was performing...      1  "
      ]
     },
     "execution_count": 24,
     "metadata": {},
     "output_type": "execute_result"
    }
   ],
   "source": [
    "df.head()"
   ]
  },
  {
   "cell_type": "code",
   "execution_count": 25,
   "metadata": {},
   "outputs": [
    {
     "data": {
      "text/plain": [
       "'Image copyright Getty ImagesOn Sunday morning Donald Trump went off on a Twitter tirade against a member of his own partyThis in itself isnt exactly huge news Its far from the first time the president has turned his rhetorical cannons on his own ranksThis time however his attacks were particularly biting and personal He essentially called Tennessee Senator Bob Corker the chair of the powerful Senate Foreign Relations Committee a coward for not running for reelectionHe said Mr Corker begged for the presidents endorsement which he refused to give He wrongly claimed that Mr Corkers support of the Iranian nuclear agreement was his only political accomplishmentUnlike some of his colleagues Mr Corker  free from having to worry about his immediate political future  didnt hold his tongueSkip Twitter post by SenBobCorker Its a shame the White House has become an adult day care center Someone obviously missed their shift this morning  Senator Bob Corker SenBobCorker October 8 2017 ReportThat wasnt the end of it though He then spoke with the New York Times and really let the president have it Here are four choice quotes from the Tennessee senators interview with the Times and why they are particularly damningI dont know why the president tweets out things that are not true You know he does it everyone knows he does it but he doesYou cant really sugarcoat this one Mr Corker is flatout saying the president is a liar  and everyone knows itThe senator in particular is challenging Mr Trumps insistence that he unsuccessfully pleaded for his endorsement but the accusation is much broaderMr Corker and the president used to be something akin to allies The Tennessean was on Mr Trumps short list for vicepresident and secretary of stateImage copyright Getty Images Image caption Bob Corker at Trump campaign rally in July 2016Those days are seemingly very much over now  and its not like Mr Corker is going anywhere anytime soon Although hes not running for reelection hell be in the Senate chairing a powerful committee until January 2019The presidents margin for success in that chamber is razorthin If Democrats can continue to stand together in opposition he can afford to lose only two votes out of 52 Republican senators Thats why healthcare reform collapsed in July  and it could be bad news for tax effortsFrom here on out Mr Corker isnt going to do the president any favoursLook except for a few people the vast majority of our caucus understands what were dealing with hereFrustration in Congress has been growing over what Republicans feel has been the presidents inability to focus on advancing their agenda Getting a sharply divided party to come together on plans to repeal Obamacare reform taxes or boost infrastructure spending is challenging enough Doing so when the president stirs up unrelated controversies on a seemingly daily basis makes things all the harderOne of the presidents gifts has been his ability to shake off negative stories by quickly moving on to a different subject That worked brilliantly during his presidential campaign but its less effective during the legislative slow grindImage copyright Getty Images Image caption Corker at the confirmation hearing for Secretary of State Rex TillersonFor months Republicans in Congress have been grumbling about this in the background and among themselves Occasionally someone like Mr McConnell will lament that the president doesnt understand how the Senate worksMr Corker has now stated it loud and clear And whats more he says almost everyone agrees with him Theyve kept silent until now because they still hope to pass conservative legislation that the president can sign or fear Mr Trumps legions will back a primary challenge next year or stay home during the general electionIf that calculus ever changes  if it becomes riskier to stay silent than speak out  Mr Trump will be in real troubleA lot of people think that there is some kind of good cop bad cop act underway but thats just not trueTime and again Mr Trump has appeared to undercut Secretary of State Rex Tillerson and others in his administration who are attempting to use soft diplomacy to deal with a range of international crisesThe war against the Taliban in Afghanistan Irans compliance with the multinational nuclear agreement the ongoing dispute between Qatar and its Persian Gulf neighbours the unrest in Venezuela and most recently North Koreas continued ballistic missile tests have all been the target of the presidents offhand remarks and Twitter invectiveSome administration defenders have said this is all a part of Mr Trumps strategy  an updated version of the Nixonera madman theory in which the president forces adversaries to give way because they fear an unpredictable US leaders actionsMr Corker isnt buying it Theres no strategy he says just the possibility of chaos  which he hopes Mr Trumps senior advisers will be able to avoidI know for a fact that every single day at the White House its a situation of trying to contain himTheres now a growing collection of John Kelly facepalm photos that serve as a testament to the chiefofstaffs reported frustration at dealing with the presidentMr Trump goes offscript to praise torchbearing white nationalists at a rally in Charlottesville and Mr Kelly is captured closing his eyes and rubbing the arch of his nose as if attempting to stave off a migraineImage copyright Reuters Image caption White House Chief of Staff John Kelly looks on as US President Donald Trump speaks at a campaign rallyThe president calls North Korean leaders criminals in a speech to the United Nations and Mr Kelly straightup buries his face in his handsThe White House communications team is often left scrambling to try to explain or reframe an indelicate presidential joke or remark that directly contradicts what was until then the official administration lineEven though Mr Kelly has brought some discipline to the West Wing staff the president still marches to the beat of his own drum  and continues to have unfettered access to his phones Twitter appBob Corker is only the latest person  politician journalist sports star or celebrity  to feel the mercurial presidents uncontainable ire'"
      ]
     },
     "execution_count": 25,
     "metadata": {},
     "output_type": "execute_result"
    }
   ],
   "source": [
    "df.iloc[0,2]"
   ]
  },
  {
   "cell_type": "code",
   "execution_count": 26,
   "metadata": {},
   "outputs": [],
   "source": [
    "import nltk\n",
    "from nltk.corpus import stopwords\n",
    "from nltk.stem import WordNetLemmatizer"
   ]
  },
  {
   "cell_type": "code",
   "execution_count": 27,
   "metadata": {},
   "outputs": [],
   "source": [
    "lemmatizer = WordNetLemmatizer()"
   ]
  },
  {
   "cell_type": "code",
   "execution_count": 28,
   "metadata": {},
   "outputs": [
    {
     "data": {
      "text/plain": [
       "['i',\n",
       " 'me',\n",
       " 'my',\n",
       " 'myself',\n",
       " 'we',\n",
       " 'our',\n",
       " 'ours',\n",
       " 'ourselves',\n",
       " 'you',\n",
       " \"you're\",\n",
       " \"you've\",\n",
       " \"you'll\",\n",
       " \"you'd\",\n",
       " 'your',\n",
       " 'yours',\n",
       " 'yourself',\n",
       " 'yourselves',\n",
       " 'he',\n",
       " 'him',\n",
       " 'his',\n",
       " 'himself',\n",
       " 'she',\n",
       " \"she's\",\n",
       " 'her',\n",
       " 'hers',\n",
       " 'herself',\n",
       " 'it',\n",
       " \"it's\",\n",
       " 'its',\n",
       " 'itself',\n",
       " 'they',\n",
       " 'them',\n",
       " 'their',\n",
       " 'theirs',\n",
       " 'themselves',\n",
       " 'what',\n",
       " 'which',\n",
       " 'who',\n",
       " 'whom',\n",
       " 'this',\n",
       " 'that',\n",
       " \"that'll\",\n",
       " 'these',\n",
       " 'those',\n",
       " 'am',\n",
       " 'is',\n",
       " 'are',\n",
       " 'was',\n",
       " 'were',\n",
       " 'be',\n",
       " 'been',\n",
       " 'being',\n",
       " 'have',\n",
       " 'has',\n",
       " 'had',\n",
       " 'having',\n",
       " 'do',\n",
       " 'does',\n",
       " 'did',\n",
       " 'doing',\n",
       " 'a',\n",
       " 'an',\n",
       " 'the',\n",
       " 'and',\n",
       " 'but',\n",
       " 'if',\n",
       " 'or',\n",
       " 'because',\n",
       " 'as',\n",
       " 'until',\n",
       " 'while',\n",
       " 'of',\n",
       " 'at',\n",
       " 'by',\n",
       " 'for',\n",
       " 'with',\n",
       " 'about',\n",
       " 'against',\n",
       " 'between',\n",
       " 'into',\n",
       " 'through',\n",
       " 'during',\n",
       " 'before',\n",
       " 'after',\n",
       " 'above',\n",
       " 'below',\n",
       " 'to',\n",
       " 'from',\n",
       " 'up',\n",
       " 'down',\n",
       " 'in',\n",
       " 'out',\n",
       " 'on',\n",
       " 'off',\n",
       " 'over',\n",
       " 'under',\n",
       " 'again',\n",
       " 'further',\n",
       " 'then',\n",
       " 'once',\n",
       " 'here',\n",
       " 'there',\n",
       " 'when',\n",
       " 'where',\n",
       " 'why',\n",
       " 'how',\n",
       " 'all',\n",
       " 'any',\n",
       " 'both',\n",
       " 'each',\n",
       " 'few',\n",
       " 'more',\n",
       " 'most',\n",
       " 'other',\n",
       " 'some',\n",
       " 'such',\n",
       " 'no',\n",
       " 'nor',\n",
       " 'not',\n",
       " 'only',\n",
       " 'own',\n",
       " 'same',\n",
       " 'so',\n",
       " 'than',\n",
       " 'too',\n",
       " 'very',\n",
       " 's',\n",
       " 't',\n",
       " 'can',\n",
       " 'will',\n",
       " 'just',\n",
       " 'don',\n",
       " \"don't\",\n",
       " 'should',\n",
       " \"should've\",\n",
       " 'now',\n",
       " 'd',\n",
       " 'll',\n",
       " 'm',\n",
       " 'o',\n",
       " 're',\n",
       " 've',\n",
       " 'y',\n",
       " 'ain',\n",
       " 'aren',\n",
       " \"aren't\",\n",
       " 'couldn',\n",
       " \"couldn't\",\n",
       " 'didn',\n",
       " \"didn't\",\n",
       " 'doesn',\n",
       " \"doesn't\",\n",
       " 'hadn',\n",
       " \"hadn't\",\n",
       " 'hasn',\n",
       " \"hasn't\",\n",
       " 'haven',\n",
       " \"haven't\",\n",
       " 'isn',\n",
       " \"isn't\",\n",
       " 'ma',\n",
       " 'mightn',\n",
       " \"mightn't\",\n",
       " 'mustn',\n",
       " \"mustn't\",\n",
       " 'needn',\n",
       " \"needn't\",\n",
       " 'shan',\n",
       " \"shan't\",\n",
       " 'shouldn',\n",
       " \"shouldn't\",\n",
       " 'wasn',\n",
       " \"wasn't\",\n",
       " 'weren',\n",
       " \"weren't\",\n",
       " 'won',\n",
       " \"won't\",\n",
       " 'wouldn',\n",
       " \"wouldn't\"]"
      ]
     },
     "execution_count": 28,
     "metadata": {},
     "output_type": "execute_result"
    }
   ],
   "source": [
    "stop_words = stopwords.words('english')\n",
    "stop_words"
   ]
  },
  {
   "cell_type": "code",
   "execution_count": 29,
   "metadata": {},
   "outputs": [],
   "source": [
    "def clean(sample):\n",
    "    filter_sentance = ''\n",
    "    # Tokenization\n",
    "    words = nltk.word_tokenize(sample)\n",
    "    \n",
    "    # Stopwords removal\n",
    "    words = [w for w in words if not w in stop_words]\n",
    "    \n",
    "    # Lemmatization\n",
    "    for words in words:\n",
    "        filter_sentance = filter_sentance  + ' ' +str(lemmatizer.lemmatize(words)).lower()\n",
    "        \n",
    "    return filter_sentance    "
   ]
  },
  {
   "cell_type": "code",
   "execution_count": 30,
   "metadata": {},
   "outputs": [],
   "source": [
    "df['Headline'] = df['Headline'].apply(clean)\n",
    "df['Body'] = df['Body'].apply(clean)"
   ]
  },
  {
   "cell_type": "code",
   "execution_count": 31,
   "metadata": {},
   "outputs": [
    {
     "data": {
      "text/plain": [
       "' image copyright getty imageson sunday morning donald trump went twitter tirade member partythis isnt exactly huge news its far first time president turned rhetorical cannon ranksthis time however attack particularly biting personal he essentially called tennessee senator bob corker chair powerful senate foreign relations committee coward running reelectionhe said mr corker begged president endorsement refused give he wrongly claimed mr corkers support iranian nuclear agreement political accomplishmentunlike colleague mr corker free worry immediate political future didnt hold tongueskip twitter post senbobcorker its shame white house become adult day care center someone obviously missed shift morning senator bob corker senbobcorker october 8 2017 reportthat wasnt end though he spoke new york times really let president here four choice quote tennessee senator interview times particularly damningi dont know president tweet thing true you know everyone know doesyou cant really sugarcoat one mr corker flatout saying president liar everyone know itthe senator particular challenging mr trumps insistence unsuccessfully pleaded endorsement accusation much broadermr corker president used something akin ally the tennessean mr trumps short list vicepresident secretary stateimage copyright getty images image caption bob corker trump campaign rally july 2016those day seemingly much like mr corker going anywhere anytime soon although he running reelection hell senate chairing powerful committee january 2019the president margin success chamber razorthin if democrats continue stand together opposition afford lose two vote 52 republican senator thats healthcare reform collapsed july could bad news tax effortsfrom mr corker isnt going president favourslook except people vast majority caucus understands dealing herefrustration congress growing republicans feel president inability focus advancing agenda getting sharply divided party come together plan repeal obamacare reform tax boost infrastructure spending challenging enough doing president stir unrelated controversy seemingly daily basis make thing harderone president gift ability shake negative story quickly moving different subject that worked brilliantly presidential campaign le effective legislative slow grindimage copyright getty images image caption corker confirmation hearing secretary state rex tillersonfor month republicans congress grumbling background among occasionally someone like mr mcconnell lament president doesnt understand senate worksmr corker stated loud clear and whats say almost everyone agrees theyve kept silent still hope pas conservative legislation president sign fear mr trumps legion back primary challenge next year stay home general electionif calculus ever change becomes riskier stay silent speak mr trump real troublea lot people think kind good cop bad cop act underway thats truetime mr trump appeared undercut secretary state rex tillerson others administration attempting use soft diplomacy deal range international crisesthe war taliban afghanistan irans compliance multinational nuclear agreement ongoing dispute qatar persian gulf neighbour unrest venezuela recently north koreas continued ballistic missile test target president offhand remark twitter invectivesome administration defender said part mr trumps strategy updated version nixonera madman theory president force adversary give way fear unpredictable us leader actionsmr corker isnt buying theres strategy say possibility chaos hope mr trumps senior adviser able avoidi know fact every single day white house situation trying contain himtheres growing collection john kelly facepalm photo serve testament chiefofstaffs reported frustration dealing presidentmr trump go offscript praise torchbearing white nationalist rally charlottesville mr kelly captured closing eye rubbing arch nose attempting stave migraineimage copyright reuters image caption white house chief staff john kelly look us president donald trump speaks campaign rallythe president call north korean leader criminal speech united nations mr kelly straightup buries face handsthe white house communication team often left scrambling try explain reframe indelicate presidential joke remark directly contradicts official administration lineeven though mr kelly brought discipline west wing staff president still march beat drum continues unfettered access phone twitter appbob corker latest person politician journalist sport star celebrity feel mercurial president uncontainable ire'"
      ]
     },
     "execution_count": 31,
     "metadata": {},
     "output_type": "execute_result"
    }
   ],
   "source": [
    "df.iloc[0,2]"
   ]
  },
  {
   "cell_type": "code",
   "execution_count": 32,
   "metadata": {},
   "outputs": [
    {
     "data": {
      "text/plain": [
       "' four way bob corker skewered donald trump'"
      ]
     },
     "execution_count": 32,
     "metadata": {},
     "output_type": "execute_result"
    }
   ],
   "source": [
    "df.iloc[0,1]"
   ]
  },
  {
   "cell_type": "code",
   "execution_count": 33,
   "metadata": {},
   "outputs": [],
   "source": [
    "df =df.sample(frac=1,).reset_index()"
   ]
  },
  {
   "cell_type": "code",
   "execution_count": 34,
   "metadata": {},
   "outputs": [],
   "source": [
    "df.drop(columns=['index'],inplace = True)"
   ]
  },
  {
   "cell_type": "code",
   "execution_count": 35,
   "metadata": {},
   "outputs": [
    {
     "data": {
      "text/html": [
       "<div>\n",
       "<style scoped>\n",
       "    .dataframe tbody tr th:only-of-type {\n",
       "        vertical-align: middle;\n",
       "    }\n",
       "\n",
       "    .dataframe tbody tr th {\n",
       "        vertical-align: top;\n",
       "    }\n",
       "\n",
       "    .dataframe thead th {\n",
       "        text-align: right;\n",
       "    }\n",
       "</style>\n",
       "<table border=\"1\" class=\"dataframe\">\n",
       "  <thead>\n",
       "    <tr style=\"text-align: right;\">\n",
       "      <th></th>\n",
       "      <th>Author_website</th>\n",
       "      <th>Headline</th>\n",
       "      <th>Body</th>\n",
       "      <th>Label</th>\n",
       "    </tr>\n",
       "  </thead>\n",
       "  <tbody>\n",
       "    <tr>\n",
       "      <th>0</th>\n",
       "      <td>BEFOREITNEWS</td>\n",
       "      <td>nick folks days tampa numbered buccaneers bri...</td>\n",
       "      <td>nick folks days tampa numbered buccaneers bri...</td>\n",
       "      <td>0</td>\n",
       "    </tr>\n",
       "    <tr>\n",
       "      <th>1</th>\n",
       "      <td>BEFOREITNEWS</td>\n",
       "      <td>california doubles down stupidity is now a sa...</td>\n",
       "      <td>california doubles down stupidity is now a sa...</td>\n",
       "      <td>0</td>\n",
       "    </tr>\n",
       "    <tr>\n",
       "      <th>2</th>\n",
       "      <td>BEFOREITNEWS</td>\n",
       "      <td>where is president trumps sense of compassion</td>\n",
       "      <td>a potato battery can light room over month di...</td>\n",
       "      <td>0</td>\n",
       "    </tr>\n",
       "    <tr>\n",
       "      <th>3</th>\n",
       "      <td>BEFOREITNEWS</td>\n",
       "      <td>report jets sign running backreturn man trava...</td>\n",
       "      <td>report jets sign running backreturn man trava...</td>\n",
       "      <td>0</td>\n",
       "    </tr>\n",
       "    <tr>\n",
       "      <th>4</th>\n",
       "      <td>BEFOREITNEWS</td>\n",
       "      <td>jake arrieta say feel good ahead game 4 start...</td>\n",
       "      <td>jake arrieta say feel good ahead game 4 start...</td>\n",
       "      <td>0</td>\n",
       "    </tr>\n",
       "  </tbody>\n",
       "</table>\n",
       "</div>"
      ],
      "text/plain": [
       "  Author_website                                           Headline  \\\n",
       "0   BEFOREITNEWS   nick folks days tampa numbered buccaneers bri...   \n",
       "1   BEFOREITNEWS   california doubles down stupidity is now a sa...   \n",
       "2   BEFOREITNEWS      where is president trumps sense of compassion   \n",
       "3   BEFOREITNEWS   report jets sign running backreturn man trava...   \n",
       "4   BEFOREITNEWS   jake arrieta say feel good ahead game 4 start...   \n",
       "\n",
       "                                                Body  Label  \n",
       "0   nick folks days tampa numbered buccaneers bri...      0  \n",
       "1   california doubles down stupidity is now a sa...      0  \n",
       "2   a potato battery can light room over month di...      0  \n",
       "3   report jets sign running backreturn man trava...      0  \n",
       "4   jake arrieta say feel good ahead game 4 start...      0  "
      ]
     },
     "execution_count": 35,
     "metadata": {},
     "output_type": "execute_result"
    }
   ],
   "source": [
    "df.head()"
   ]
  },
  {
   "cell_type": "code",
   "execution_count": 36,
   "metadata": {},
   "outputs": [
    {
     "data": {
      "text/html": [
       "<div>\n",
       "<style scoped>\n",
       "    .dataframe tbody tr th:only-of-type {\n",
       "        vertical-align: middle;\n",
       "    }\n",
       "\n",
       "    .dataframe tbody tr th {\n",
       "        vertical-align: top;\n",
       "    }\n",
       "\n",
       "    .dataframe thead th {\n",
       "        text-align: right;\n",
       "    }\n",
       "</style>\n",
       "<table border=\"1\" class=\"dataframe\">\n",
       "  <thead>\n",
       "    <tr style=\"text-align: right;\">\n",
       "      <th></th>\n",
       "      <th>Author_website</th>\n",
       "      <th>Headline</th>\n",
       "      <th>Body</th>\n",
       "      <th>Label</th>\n",
       "    </tr>\n",
       "  </thead>\n",
       "  <tbody>\n",
       "    <tr>\n",
       "      <th>3981</th>\n",
       "      <td>ACTIVISTPOST</td>\n",
       "      <td>us missile machinations undoes nonproliferati...</td>\n",
       "      <td>by ulson gunnarwhen come nuclear weapon upon ...</td>\n",
       "      <td>0</td>\n",
       "    </tr>\n",
       "    <tr>\n",
       "      <th>3982</th>\n",
       "      <td>BEFOREITNEWS</td>\n",
       "      <td>929 through 40 hbd cannonball paul camnitz cl...</td>\n",
       "      <td>red flag warning these california wildfires a...</td>\n",
       "      <td>0</td>\n",
       "    </tr>\n",
       "    <tr>\n",
       "      <th>3983</th>\n",
       "      <td>BEFOREITNEWS</td>\n",
       "      <td>107 chuck axed hbd brickyard adam moonlight a...</td>\n",
       "      <td>an embattled pharmaceutical company that sell...</td>\n",
       "      <td>0</td>\n",
       "    </tr>\n",
       "    <tr>\n",
       "      <th>3984</th>\n",
       "      <td>ACTIVISTPOST</td>\n",
       "      <td>msm ignores videos of syrians celebrating saa...</td>\n",
       "      <td>by brandon turbevillewhile western medium lam...</td>\n",
       "      <td>0</td>\n",
       "    </tr>\n",
       "    <tr>\n",
       "      <th>3985</th>\n",
       "      <td>BBC</td>\n",
       "      <td>facebook confirms russia ad instagram</td>\n",
       "      <td>image copyright getty imagesfacebook confirme...</td>\n",
       "      <td>1</td>\n",
       "    </tr>\n",
       "  </tbody>\n",
       "</table>\n",
       "</div>"
      ],
      "text/plain": [
       "     Author_website                                           Headline  \\\n",
       "3981   ACTIVISTPOST   us missile machinations undoes nonproliferati...   \n",
       "3982   BEFOREITNEWS   929 through 40 hbd cannonball paul camnitz cl...   \n",
       "3983   BEFOREITNEWS   107 chuck axed hbd brickyard adam moonlight a...   \n",
       "3984   ACTIVISTPOST   msm ignores videos of syrians celebrating saa...   \n",
       "3985            BBC              facebook confirms russia ad instagram   \n",
       "\n",
       "                                                   Body  Label  \n",
       "3981   by ulson gunnarwhen come nuclear weapon upon ...      0  \n",
       "3982   red flag warning these california wildfires a...      0  \n",
       "3983   an embattled pharmaceutical company that sell...      0  \n",
       "3984   by brandon turbevillewhile western medium lam...      0  \n",
       "3985   image copyright getty imagesfacebook confirme...      1  "
      ]
     },
     "execution_count": 36,
     "metadata": {},
     "output_type": "execute_result"
    }
   ],
   "source": [
    "df.tail()"
   ]
  },
  {
   "cell_type": "code",
   "execution_count": 37,
   "metadata": {},
   "outputs": [],
   "source": [
    "df.to_csv('modeling_data/cleaned_data.csv',index=False)"
   ]
  },
  {
   "cell_type": "code",
   "execution_count": null,
   "metadata": {},
   "outputs": [],
   "source": []
  }
 ],
 "metadata": {
  "kernelspec": {
   "display_name": "Python conda_env",
   "language": "python",
   "name": "conda_env"
  },
  "language_info": {
   "codemirror_mode": {
    "name": "ipython",
    "version": 3
   },
   "file_extension": ".py",
   "mimetype": "text/x-python",
   "name": "python",
   "nbconvert_exporter": "python",
   "pygments_lexer": "ipython3",
   "version": "3.8.5"
  }
 },
 "nbformat": 4,
 "nbformat_minor": 4
}
