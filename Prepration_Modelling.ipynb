{
 "cells": [
  {
   "cell_type": "code",
   "execution_count": 1,
   "metadata": {},
   "outputs": [],
   "source": [
    "import pandas as pd\n",
    "import numpy as np\n",
    "from sklearn.feature_extraction.text import CountVectorizer\n",
    "from sklearn.feature_extraction.text import TfidfVectorizer\n",
    "from sklearn.feature_extraction.text import TfidfTransformer"
   ]
  },
  {
   "cell_type": "code",
   "execution_count": 2,
   "metadata": {},
   "outputs": [],
   "source": [
    "df = pd.read_csv('cleaned_data.csv')"
   ]
  },
  {
   "cell_type": "code",
   "execution_count": 3,
   "metadata": {},
   "outputs": [
    {
     "name": "stdout",
     "output_type": "stream",
     "text": [
      "<class 'pandas.core.frame.DataFrame'>\n",
      "RangeIndex: 3986 entries, 0 to 3985\n",
      "Data columns (total 4 columns):\n",
      " #   Column          Non-Null Count  Dtype \n",
      "---  ------          --------------  ----- \n",
      " 0   Author_website  3986 non-null   object\n",
      " 1   Headline        3986 non-null   object\n",
      " 2   Body            3986 non-null   object\n",
      " 3   Label           3986 non-null   int64 \n",
      "dtypes: int64(1), object(3)\n",
      "memory usage: 124.7+ KB\n"
     ]
    }
   ],
   "source": [
    "df.info()"
   ]
  },
  {
   "cell_type": "code",
   "execution_count": 4,
   "metadata": {},
   "outputs": [
    {
     "data": {
      "text/html": [
       "<div>\n",
       "<style scoped>\n",
       "    .dataframe tbody tr th:only-of-type {\n",
       "        vertical-align: middle;\n",
       "    }\n",
       "\n",
       "    .dataframe tbody tr th {\n",
       "        vertical-align: top;\n",
       "    }\n",
       "\n",
       "    .dataframe thead th {\n",
       "        text-align: right;\n",
       "    }\n",
       "</style>\n",
       "<table border=\"1\" class=\"dataframe\">\n",
       "  <thead>\n",
       "    <tr style=\"text-align: right;\">\n",
       "      <th></th>\n",
       "      <th>Author_website</th>\n",
       "      <th>Headline</th>\n",
       "      <th>Body</th>\n",
       "      <th>Label</th>\n",
       "    </tr>\n",
       "  </thead>\n",
       "  <tbody>\n",
       "    <tr>\n",
       "      <th>0</th>\n",
       "      <td>BEFOREITNEWS</td>\n",
       "      <td>nick folks days tampa numbered buccaneers bri...</td>\n",
       "      <td>nick folks days tampa numbered buccaneers bri...</td>\n",
       "      <td>0</td>\n",
       "    </tr>\n",
       "    <tr>\n",
       "      <th>1</th>\n",
       "      <td>BEFOREITNEWS</td>\n",
       "      <td>california doubles down stupidity is now a sa...</td>\n",
       "      <td>california doubles down stupidity is now a sa...</td>\n",
       "      <td>0</td>\n",
       "    </tr>\n",
       "    <tr>\n",
       "      <th>2</th>\n",
       "      <td>BEFOREITNEWS</td>\n",
       "      <td>where is president trumps sense of compassion</td>\n",
       "      <td>a potato battery can light room over month di...</td>\n",
       "      <td>0</td>\n",
       "    </tr>\n",
       "    <tr>\n",
       "      <th>3</th>\n",
       "      <td>BEFOREITNEWS</td>\n",
       "      <td>report jets sign running backreturn man trava...</td>\n",
       "      <td>report jets sign running backreturn man trava...</td>\n",
       "      <td>0</td>\n",
       "    </tr>\n",
       "    <tr>\n",
       "      <th>4</th>\n",
       "      <td>BEFOREITNEWS</td>\n",
       "      <td>jake arrieta say feel good ahead game 4 start...</td>\n",
       "      <td>jake arrieta say feel good ahead game 4 start...</td>\n",
       "      <td>0</td>\n",
       "    </tr>\n",
       "  </tbody>\n",
       "</table>\n",
       "</div>"
      ],
      "text/plain": [
       "  Author_website                                           Headline  \\\n",
       "0   BEFOREITNEWS   nick folks days tampa numbered buccaneers bri...   \n",
       "1   BEFOREITNEWS   california doubles down stupidity is now a sa...   \n",
       "2   BEFOREITNEWS      where is president trumps sense of compassion   \n",
       "3   BEFOREITNEWS   report jets sign running backreturn man trava...   \n",
       "4   BEFOREITNEWS   jake arrieta say feel good ahead game 4 start...   \n",
       "\n",
       "                                                Body  Label  \n",
       "0   nick folks days tampa numbered buccaneers bri...      0  \n",
       "1   california doubles down stupidity is now a sa...      0  \n",
       "2   a potato battery can light room over month di...      0  \n",
       "3   report jets sign running backreturn man trava...      0  \n",
       "4   jake arrieta say feel good ahead game 4 start...      0  "
      ]
     },
     "execution_count": 4,
     "metadata": {},
     "output_type": "execute_result"
    }
   ],
   "source": [
    "df.head()"
   ]
  },
  {
   "cell_type": "code",
   "execution_count": 5,
   "metadata": {},
   "outputs": [
    {
     "data": {
      "text/html": [
       "<div>\n",
       "<style scoped>\n",
       "    .dataframe tbody tr th:only-of-type {\n",
       "        vertical-align: middle;\n",
       "    }\n",
       "\n",
       "    .dataframe tbody tr th {\n",
       "        vertical-align: top;\n",
       "    }\n",
       "\n",
       "    .dataframe thead th {\n",
       "        text-align: right;\n",
       "    }\n",
       "</style>\n",
       "<table border=\"1\" class=\"dataframe\">\n",
       "  <thead>\n",
       "    <tr style=\"text-align: right;\">\n",
       "      <th></th>\n",
       "      <th>Author_website</th>\n",
       "      <th>Headline</th>\n",
       "      <th>Body</th>\n",
       "      <th>Label</th>\n",
       "    </tr>\n",
       "  </thead>\n",
       "  <tbody>\n",
       "    <tr>\n",
       "      <th>3981</th>\n",
       "      <td>ACTIVISTPOST</td>\n",
       "      <td>us missile machinations undoes nonproliferati...</td>\n",
       "      <td>by ulson gunnarwhen come nuclear weapon upon ...</td>\n",
       "      <td>0</td>\n",
       "    </tr>\n",
       "    <tr>\n",
       "      <th>3982</th>\n",
       "      <td>BEFOREITNEWS</td>\n",
       "      <td>929 through 40 hbd cannonball paul camnitz cl...</td>\n",
       "      <td>red flag warning these california wildfires a...</td>\n",
       "      <td>0</td>\n",
       "    </tr>\n",
       "    <tr>\n",
       "      <th>3983</th>\n",
       "      <td>BEFOREITNEWS</td>\n",
       "      <td>107 chuck axed hbd brickyard adam moonlight a...</td>\n",
       "      <td>an embattled pharmaceutical company that sell...</td>\n",
       "      <td>0</td>\n",
       "    </tr>\n",
       "    <tr>\n",
       "      <th>3984</th>\n",
       "      <td>ACTIVISTPOST</td>\n",
       "      <td>msm ignores videos of syrians celebrating saa...</td>\n",
       "      <td>by brandon turbevillewhile western medium lam...</td>\n",
       "      <td>0</td>\n",
       "    </tr>\n",
       "    <tr>\n",
       "      <th>3985</th>\n",
       "      <td>BBC</td>\n",
       "      <td>facebook confirms russia ad instagram</td>\n",
       "      <td>image copyright getty imagesfacebook confirme...</td>\n",
       "      <td>1</td>\n",
       "    </tr>\n",
       "  </tbody>\n",
       "</table>\n",
       "</div>"
      ],
      "text/plain": [
       "     Author_website                                           Headline  \\\n",
       "3981   ACTIVISTPOST   us missile machinations undoes nonproliferati...   \n",
       "3982   BEFOREITNEWS   929 through 40 hbd cannonball paul camnitz cl...   \n",
       "3983   BEFOREITNEWS   107 chuck axed hbd brickyard adam moonlight a...   \n",
       "3984   ACTIVISTPOST   msm ignores videos of syrians celebrating saa...   \n",
       "3985            BBC              facebook confirms russia ad instagram   \n",
       "\n",
       "                                                   Body  Label  \n",
       "3981   by ulson gunnarwhen come nuclear weapon upon ...      0  \n",
       "3982   red flag warning these california wildfires a...      0  \n",
       "3983   an embattled pharmaceutical company that sell...      0  \n",
       "3984   by brandon turbevillewhile western medium lam...      0  \n",
       "3985   image copyright getty imagesfacebook confirme...      1  "
      ]
     },
     "execution_count": 5,
     "metadata": {},
     "output_type": "execute_result"
    }
   ],
   "source": [
    "df.tail()"
   ]
  },
  {
   "cell_type": "code",
   "execution_count": 6,
   "metadata": {},
   "outputs": [],
   "source": [
    "df = df.sample(frac=1,random_state=24).reset_index()\n",
    "df.drop(columns = ['index'],axis =1,inplace=True)"
   ]
  },
  {
   "cell_type": "code",
   "execution_count": 7,
   "metadata": {},
   "outputs": [
    {
     "data": {
      "text/html": [
       "<div>\n",
       "<style scoped>\n",
       "    .dataframe tbody tr th:only-of-type {\n",
       "        vertical-align: middle;\n",
       "    }\n",
       "\n",
       "    .dataframe tbody tr th {\n",
       "        vertical-align: top;\n",
       "    }\n",
       "\n",
       "    .dataframe thead th {\n",
       "        text-align: right;\n",
       "    }\n",
       "</style>\n",
       "<table border=\"1\" class=\"dataframe\">\n",
       "  <thead>\n",
       "    <tr style=\"text-align: right;\">\n",
       "      <th></th>\n",
       "      <th>Author_website</th>\n",
       "      <th>Headline</th>\n",
       "      <th>Body</th>\n",
       "      <th>Label</th>\n",
       "    </tr>\n",
       "  </thead>\n",
       "  <tbody>\n",
       "    <tr>\n",
       "      <th>0</th>\n",
       "      <td>REUTERS</td>\n",
       "      <td>accor 920 million mantra bid australia touris...</td>\n",
       "      <td>a sign bearing logo mantra group ltd displaye...</td>\n",
       "      <td>1</td>\n",
       "    </tr>\n",
       "    <tr>\n",
       "      <th>1</th>\n",
       "      <td>BBC</td>\n",
       "      <td>blade runner 2049 disappoints us box office</td>\n",
       "      <td>image copyright getty images image caption ry...</td>\n",
       "      <td>1</td>\n",
       "    </tr>\n",
       "    <tr>\n",
       "      <th>2</th>\n",
       "      <td>BEFOREITNEWS</td>\n",
       "      <td>shrimpton kerry cassidy in ireland 16 sept 17...</td>\n",
       "      <td>streamed live 9 hour agomirjam jansekerry cas...</td>\n",
       "      <td>0</td>\n",
       "    </tr>\n",
       "    <tr>\n",
       "      <th>3</th>\n",
       "      <td>REUTERS</td>\n",
       "      <td>apple name former honeywell executive new gen...</td>\n",
       "      <td>a security officer apple store staff seen ope...</td>\n",
       "      <td>1</td>\n",
       "    </tr>\n",
       "    <tr>\n",
       "      <th>4</th>\n",
       "      <td>CNN</td>\n",
       "      <td>how ferraris first female driver disappear</td>\n",
       "      <td>written jared zaugg cnnas one greatest female...</td>\n",
       "      <td>1</td>\n",
       "    </tr>\n",
       "  </tbody>\n",
       "</table>\n",
       "</div>"
      ],
      "text/plain": [
       "  Author_website                                           Headline  \\\n",
       "0        REUTERS   accor 920 million mantra bid australia touris...   \n",
       "1            BBC        blade runner 2049 disappoints us box office   \n",
       "2   BEFOREITNEWS   shrimpton kerry cassidy in ireland 16 sept 17...   \n",
       "3        REUTERS   apple name former honeywell executive new gen...   \n",
       "4            CNN         how ferraris first female driver disappear   \n",
       "\n",
       "                                                Body  Label  \n",
       "0   a sign bearing logo mantra group ltd displaye...      1  \n",
       "1   image copyright getty images image caption ry...      1  \n",
       "2   streamed live 9 hour agomirjam jansekerry cas...      0  \n",
       "3   a security officer apple store staff seen ope...      1  \n",
       "4   written jared zaugg cnnas one greatest female...      1  "
      ]
     },
     "execution_count": 7,
     "metadata": {},
     "output_type": "execute_result"
    }
   ],
   "source": [
    "df.head()"
   ]
  },
  {
   "cell_type": "code",
   "execution_count": 8,
   "metadata": {},
   "outputs": [],
   "source": [
    "vectorizer_head = CountVectorizer()\n",
    "vectorizer_body = CountVectorizer()\n",
    "term_frequency_head = TfidfTransformer()\n",
    "term_frequency_body = TfidfTransformer()"
   ]
  },
  {
   "cell_type": "code",
   "execution_count": 18,
   "metadata": {},
   "outputs": [],
   "source": [
    "def prepare_head(sample):\n",
    "    temp = vectorizer_head.fit_transform(sample)\n",
    "    head_mat = term_frequency_head.fit_transform(temp).todense()\n",
    "    return head_mat\n",
    "\n",
    "def prepare_body(sample):\n",
    "    temp = vectorizer_body.fit_transform(sample)\n",
    "    body_mat = term_frequency_body.fit_transform(temp).todense()\n",
    "    return body_mat"
   ]
  },
  {
   "cell_type": "code",
   "execution_count": 19,
   "metadata": {},
   "outputs": [],
   "source": [
    "x_head = prepare_head(df['Headline'])\n",
    "x_body = prepare_body(df['Body'])"
   ]
  },
  {
   "cell_type": "code",
   "execution_count": 20,
   "metadata": {},
   "outputs": [
    {
     "data": {
      "text/plain": [
       "((3986, 7350), (3986, 84165))"
      ]
     },
     "execution_count": 20,
     "metadata": {},
     "output_type": "execute_result"
    }
   ],
   "source": [
    "x_head.shape, x_body.shape"
   ]
  },
  {
   "cell_type": "code",
   "execution_count": 21,
   "metadata": {},
   "outputs": [],
   "source": [
    "matrix = np.hstack((x_head,x_body))"
   ]
  },
  {
   "cell_type": "code",
   "execution_count": 22,
   "metadata": {},
   "outputs": [
    {
     "data": {
      "text/plain": [
       "(3986, 91515)"
      ]
     },
     "execution_count": 22,
     "metadata": {},
     "output_type": "execute_result"
    }
   ],
   "source": [
    "matrix.shape"
   ]
  },
  {
   "cell_type": "code",
   "execution_count": 23,
   "metadata": {},
   "outputs": [],
   "source": [
    "from sklearn.model_selection import train_test_split"
   ]
  },
  {
   "cell_type": "code",
   "execution_count": 24,
   "metadata": {},
   "outputs": [],
   "source": [
    "x_train,x_test,y_train,y_test = train_test_split(matrix,df['Label'],test_size = 0.2,random_state = 24)"
   ]
  },
  {
   "cell_type": "code",
   "execution_count": 25,
   "metadata": {},
   "outputs": [
    {
     "data": {
      "text/plain": [
       "((3188, 91515), (3188,))"
      ]
     },
     "execution_count": 25,
     "metadata": {},
     "output_type": "execute_result"
    }
   ],
   "source": [
    "x_train.shape, y_train.shape"
   ]
  },
  {
   "cell_type": "markdown",
   "metadata": {},
   "source": [
    "# Logistic Regression"
   ]
  },
  {
   "cell_type": "code",
   "execution_count": 26,
   "metadata": {},
   "outputs": [],
   "source": [
    "from sklearn.linear_model import LogisticRegressionCV\n",
    "from sklearn.metrics import accuracy_score,mean_absolute_error"
   ]
  },
  {
   "cell_type": "code",
   "execution_count": 27,
   "metadata": {},
   "outputs": [],
   "source": [
    "logistic_model = LogisticRegressionCV(Cs = 10)"
   ]
  },
  {
   "cell_type": "code",
   "execution_count": 28,
   "metadata": {},
   "outputs": [
    {
     "data": {
      "text/plain": [
       "LogisticRegressionCV()"
      ]
     },
     "execution_count": 28,
     "metadata": {},
     "output_type": "execute_result"
    }
   ],
   "source": [
    "logistic_model.fit(x_train,y_train)"
   ]
  },
  {
   "cell_type": "code",
   "execution_count": 29,
   "metadata": {},
   "outputs": [],
   "source": [
    "trainpredict_logistic = logistic_model.predict(x_train)"
   ]
  },
  {
   "cell_type": "code",
   "execution_count": 30,
   "metadata": {},
   "outputs": [],
   "source": [
    "trainscore_log_model = accuracy_score(y_train,trainpredict_logistic)"
   ]
  },
  {
   "cell_type": "code",
   "execution_count": 31,
   "metadata": {},
   "outputs": [],
   "source": [
    "testpredict_logistic = logistic_model.predict(x_test)"
   ]
  },
  {
   "cell_type": "code",
   "execution_count": 33,
   "metadata": {},
   "outputs": [],
   "source": [
    "testscore_log_model = accuracy_score(y_test,testpredict_logistic)"
   ]
  },
  {
   "cell_type": "code",
   "execution_count": 36,
   "metadata": {},
   "outputs": [
    {
     "data": {
      "text/html": [
       "<div>\n",
       "<style scoped>\n",
       "    .dataframe tbody tr th:only-of-type {\n",
       "        vertical-align: middle;\n",
       "    }\n",
       "\n",
       "    .dataframe tbody tr th {\n",
       "        vertical-align: top;\n",
       "    }\n",
       "\n",
       "    .dataframe thead th {\n",
       "        text-align: right;\n",
       "    }\n",
       "</style>\n",
       "<table border=\"1\" class=\"dataframe\">\n",
       "  <thead>\n",
       "    <tr style=\"text-align: right;\">\n",
       "      <th></th>\n",
       "      <th>Training score</th>\n",
       "      <th>Testing score</th>\n",
       "    </tr>\n",
       "  </thead>\n",
       "  <tbody>\n",
       "    <tr>\n",
       "      <th>0</th>\n",
       "      <td>1.0</td>\n",
       "      <td>0.982456</td>\n",
       "    </tr>\n",
       "  </tbody>\n",
       "</table>\n",
       "</div>"
      ],
      "text/plain": [
       "   Training score  Testing score\n",
       "0             1.0       0.982456"
      ]
     },
     "execution_count": 36,
     "metadata": {},
     "output_type": "execute_result"
    }
   ],
   "source": [
    "log_scores = pd.DataFrame({'Training score':trainscore_log_model,'Testing score':testscore_log_model},index=[0])\n",
    "log_scores"
   ]
  },
  {
   "cell_type": "code",
   "execution_count": 37,
   "metadata": {},
   "outputs": [
    {
     "data": {
      "text/plain": [
       "(array([1.00000000e-04, 7.74263683e-04, 5.99484250e-03, 4.64158883e-02,\n",
       "        3.59381366e-01, 2.78255940e+00, 2.15443469e+01, 1.66810054e+02,\n",
       "        1.29154967e+03, 1.00000000e+04]),\n",
       " array([10000.]))"
      ]
     },
     "execution_count": 37,
     "metadata": {},
     "output_type": "execute_result"
    }
   ],
   "source": [
    "logistic_model.Cs_ , logistic_model.C_"
   ]
  },
  {
   "cell_type": "markdown",
   "metadata": {},
   "source": [
    "   # Decision Tree"
   ]
  },
  {
   "cell_type": "code",
   "execution_count": 38,
   "metadata": {},
   "outputs": [],
   "source": [
    "from sklearn.tree import DecisionTreeClassifier"
   ]
  },
  {
   "cell_type": "code",
   "execution_count": 39,
   "metadata": {},
   "outputs": [],
   "source": [
    "tree_model = DecisionTreeClassifier(random_state = 24,criterion='entropy')"
   ]
  },
  {
   "cell_type": "code",
   "execution_count": 40,
   "metadata": {},
   "outputs": [],
   "source": [
    "from sklearn.model_selection import GridSearchCV"
   ]
  },
  {
   "cell_type": "code",
   "execution_count": 41,
   "metadata": {},
   "outputs": [],
   "source": [
    "param_dict = {'max_depth':[80,81,82,83,86,88,90]}"
   ]
  },
  {
   "cell_type": "code",
   "execution_count": 42,
   "metadata": {},
   "outputs": [],
   "source": [
    "search_cv = GridSearchCV(tree_model,param_dict,verbose=10)"
   ]
  },
  {
   "cell_type": "code",
   "execution_count": 43,
   "metadata": {},
   "outputs": [
    {
     "name": "stdout",
     "output_type": "stream",
     "text": [
      "Fitting 5 folds for each of 7 candidates, totalling 35 fits\n",
      "[CV] max_depth=80 ....................................................\n"
     ]
    },
    {
     "name": "stderr",
     "output_type": "stream",
     "text": [
      "[Parallel(n_jobs=1)]: Using backend SequentialBackend with 1 concurrent workers.\n"
     ]
    },
    {
     "name": "stdout",
     "output_type": "stream",
     "text": [
      "[CV] ........................ max_depth=80, score=0.934, total=  18.5s\n",
      "[CV] max_depth=80 ....................................................\n"
     ]
    },
    {
     "name": "stderr",
     "output_type": "stream",
     "text": [
      "[Parallel(n_jobs=1)]: Done   1 out of   1 | elapsed:   18.6s remaining:    0.0s\n"
     ]
    },
    {
     "name": "stdout",
     "output_type": "stream",
     "text": [
      "[CV] ........................ max_depth=80, score=0.940, total=  19.4s\n",
      "[CV] max_depth=80 ....................................................\n"
     ]
    },
    {
     "name": "stderr",
     "output_type": "stream",
     "text": [
      "[Parallel(n_jobs=1)]: Done   2 out of   2 | elapsed:   38.2s remaining:    0.0s\n"
     ]
    },
    {
     "name": "stdout",
     "output_type": "stream",
     "text": [
      "[CV] ........................ max_depth=80, score=0.933, total=  20.2s\n",
      "[CV] max_depth=80 ....................................................\n"
     ]
    },
    {
     "name": "stderr",
     "output_type": "stream",
     "text": [
      "[Parallel(n_jobs=1)]: Done   3 out of   3 | elapsed:   58.6s remaining:    0.0s\n"
     ]
    },
    {
     "name": "stdout",
     "output_type": "stream",
     "text": [
      "[CV] ........................ max_depth=80, score=0.939, total=  19.0s\n",
      "[CV] max_depth=80 ....................................................\n"
     ]
    },
    {
     "name": "stderr",
     "output_type": "stream",
     "text": [
      "[Parallel(n_jobs=1)]: Done   4 out of   4 | elapsed:  1.3min remaining:    0.0s\n"
     ]
    },
    {
     "name": "stdout",
     "output_type": "stream",
     "text": [
      "[CV] ........................ max_depth=80, score=0.928, total=  18.3s\n"
     ]
    },
    {
     "name": "stderr",
     "output_type": "stream",
     "text": [
      "[Parallel(n_jobs=1)]: Done   5 out of   5 | elapsed:  1.6min remaining:    0.0s\n"
     ]
    },
    {
     "name": "stdout",
     "output_type": "stream",
     "text": [
      "[CV] max_depth=81 ....................................................\n",
      "[CV] ........................ max_depth=81, score=0.934, total=  19.1s\n",
      "[CV] max_depth=81 ....................................................\n"
     ]
    },
    {
     "name": "stderr",
     "output_type": "stream",
     "text": [
      "[Parallel(n_jobs=1)]: Done   6 out of   6 | elapsed:  1.9min remaining:    0.0s\n"
     ]
    },
    {
     "name": "stdout",
     "output_type": "stream",
     "text": [
      "[CV] ........................ max_depth=81, score=0.940, total=  18.6s\n",
      "[CV] max_depth=81 ....................................................\n"
     ]
    },
    {
     "name": "stderr",
     "output_type": "stream",
     "text": [
      "[Parallel(n_jobs=1)]: Done   7 out of   7 | elapsed:  2.2min remaining:    0.0s\n"
     ]
    },
    {
     "name": "stdout",
     "output_type": "stream",
     "text": [
      "[CV] ........................ max_depth=81, score=0.933, total=  19.6s\n",
      "[CV] max_depth=81 ....................................................\n"
     ]
    },
    {
     "name": "stderr",
     "output_type": "stream",
     "text": [
      "[Parallel(n_jobs=1)]: Done   8 out of   8 | elapsed:  2.6min remaining:    0.0s\n"
     ]
    },
    {
     "name": "stdout",
     "output_type": "stream",
     "text": [
      "[CV] ........................ max_depth=81, score=0.939, total=  20.1s\n",
      "[CV] max_depth=81 ....................................................\n"
     ]
    },
    {
     "name": "stderr",
     "output_type": "stream",
     "text": [
      "[Parallel(n_jobs=1)]: Done   9 out of   9 | elapsed:  2.9min remaining:    0.0s\n"
     ]
    },
    {
     "name": "stdout",
     "output_type": "stream",
     "text": [
      "[CV] ........................ max_depth=81, score=0.928, total=  19.4s\n",
      "[CV] max_depth=82 ....................................................\n",
      "[CV] ........................ max_depth=82, score=0.934, total=  19.7s\n",
      "[CV] max_depth=82 ....................................................\n",
      "[CV] ........................ max_depth=82, score=0.940, total=  20.0s\n",
      "[CV] max_depth=82 ....................................................\n",
      "[CV] ........................ max_depth=82, score=0.933, total=  19.4s\n",
      "[CV] max_depth=82 ....................................................\n",
      "[CV] ........................ max_depth=82, score=0.939, total=  19.3s\n",
      "[CV] max_depth=82 ....................................................\n",
      "[CV] ........................ max_depth=82, score=0.928, total=  18.5s\n",
      "[CV] max_depth=83 ....................................................\n",
      "[CV] ........................ max_depth=83, score=0.934, total=  18.7s\n",
      "[CV] max_depth=83 ....................................................\n",
      "[CV] ........................ max_depth=83, score=0.940, total=  18.6s\n",
      "[CV] max_depth=83 ....................................................\n",
      "[CV] ........................ max_depth=83, score=0.933, total=  19.0s\n",
      "[CV] max_depth=83 ....................................................\n",
      "[CV] ........................ max_depth=83, score=0.939, total=  19.3s\n",
      "[CV] max_depth=83 ....................................................\n",
      "[CV] ........................ max_depth=83, score=0.928, total=  18.6s\n",
      "[CV] max_depth=86 ....................................................\n",
      "[CV] ........................ max_depth=86, score=0.934, total=  19.0s\n",
      "[CV] max_depth=86 ....................................................\n",
      "[CV] ........................ max_depth=86, score=0.940, total=  19.0s\n",
      "[CV] max_depth=86 ....................................................\n",
      "[CV] ........................ max_depth=86, score=0.933, total=  18.9s\n",
      "[CV] max_depth=86 ....................................................\n",
      "[CV] ........................ max_depth=86, score=0.939, total=  19.0s\n",
      "[CV] max_depth=86 ....................................................\n",
      "[CV] ........................ max_depth=86, score=0.928, total=  18.6s\n",
      "[CV] max_depth=88 ....................................................\n",
      "[CV] ........................ max_depth=88, score=0.934, total=  18.9s\n",
      "[CV] max_depth=88 ....................................................\n",
      "[CV] ........................ max_depth=88, score=0.940, total=  20.2s\n",
      "[CV] max_depth=88 ....................................................\n",
      "[CV] ........................ max_depth=88, score=0.933, total=  19.9s\n",
      "[CV] max_depth=88 ....................................................\n",
      "[CV] ........................ max_depth=88, score=0.939, total=  19.1s\n",
      "[CV] max_depth=88 ....................................................\n",
      "[CV] ........................ max_depth=88, score=0.928, total=  18.8s\n",
      "[CV] max_depth=90 ....................................................\n",
      "[CV] ........................ max_depth=90, score=0.934, total=  19.1s\n",
      "[CV] max_depth=90 ....................................................\n",
      "[CV] ........................ max_depth=90, score=0.940, total=  19.0s\n",
      "[CV] max_depth=90 ....................................................\n",
      "[CV] ........................ max_depth=90, score=0.933, total=  19.4s\n",
      "[CV] max_depth=90 ....................................................\n",
      "[CV] ........................ max_depth=90, score=0.939, total=  19.1s\n",
      "[CV] max_depth=90 ....................................................\n",
      "[CV] ........................ max_depth=90, score=0.928, total=  18.3s\n"
     ]
    },
    {
     "name": "stderr",
     "output_type": "stream",
     "text": [
      "[Parallel(n_jobs=1)]: Done  35 out of  35 | elapsed: 11.3min finished\n"
     ]
    },
    {
     "data": {
      "text/plain": [
       "GridSearchCV(estimator=DecisionTreeClassifier(criterion='entropy',\n",
       "                                              random_state=24),\n",
       "             param_grid={'max_depth': [80, 81, 82, 83, 86, 88, 90]},\n",
       "             verbose=10)"
      ]
     },
     "execution_count": 43,
     "metadata": {},
     "output_type": "execute_result"
    }
   ],
   "source": [
    "search_cv.fit(x_train,y_train)"
   ]
  },
  {
   "cell_type": "code",
   "execution_count": 44,
   "metadata": {},
   "outputs": [
    {
     "data": {
      "text/plain": [
       "{'max_depth': 80}"
      ]
     },
     "execution_count": 44,
     "metadata": {},
     "output_type": "execute_result"
    }
   ],
   "source": [
    "search_cv.best_params_"
   ]
  },
  {
   "cell_type": "code",
   "execution_count": 45,
   "metadata": {},
   "outputs": [],
   "source": [
    "tree_model.max_depth = 80"
   ]
  },
  {
   "cell_type": "code",
   "execution_count": 46,
   "metadata": {},
   "outputs": [
    {
     "data": {
      "text/plain": [
       "DecisionTreeClassifier(criterion='entropy', max_depth=80, random_state=24)"
      ]
     },
     "execution_count": 46,
     "metadata": {},
     "output_type": "execute_result"
    }
   ],
   "source": [
    "tree_model.fit(x_train,y_train)"
   ]
  },
  {
   "cell_type": "code",
   "execution_count": 55,
   "metadata": {},
   "outputs": [],
   "source": [
    "trainpredict_tree  = tree_model.predict(x_train)"
   ]
  },
  {
   "cell_type": "code",
   "execution_count": 56,
   "metadata": {},
   "outputs": [
    {
     "data": {
      "text/plain": [
       "array([0, 1, 0, 1, 1], dtype=int64)"
      ]
     },
     "execution_count": 56,
     "metadata": {},
     "output_type": "execute_result"
    }
   ],
   "source": [
    "testpredict_tree = tree_model.predict(x_test)\n",
    "testpredict_tree[0:5]"
   ]
  },
  {
   "cell_type": "code",
   "execution_count": 57,
   "metadata": {},
   "outputs": [],
   "source": [
    "trainscore_tree = accuracy_score(y_train,trainpredict_tree)\n",
    "testscore_tree = accuracy_score(y_test,testpredict_tree)"
   ]
  },
  {
   "cell_type": "code",
   "execution_count": 58,
   "metadata": {},
   "outputs": [
    {
     "data": {
      "text/html": [
       "<div>\n",
       "<style scoped>\n",
       "    .dataframe tbody tr th:only-of-type {\n",
       "        vertical-align: middle;\n",
       "    }\n",
       "\n",
       "    .dataframe tbody tr th {\n",
       "        vertical-align: top;\n",
       "    }\n",
       "\n",
       "    .dataframe thead th {\n",
       "        text-align: right;\n",
       "    }\n",
       "</style>\n",
       "<table border=\"1\" class=\"dataframe\">\n",
       "  <thead>\n",
       "    <tr style=\"text-align: right;\">\n",
       "      <th></th>\n",
       "      <th>Training score</th>\n",
       "      <th>Testing score</th>\n",
       "    </tr>\n",
       "  </thead>\n",
       "  <tbody>\n",
       "    <tr>\n",
       "      <th>0</th>\n",
       "      <td>1.0</td>\n",
       "      <td>0.942356</td>\n",
       "    </tr>\n",
       "  </tbody>\n",
       "</table>\n",
       "</div>"
      ],
      "text/plain": [
       "   Training score  Testing score\n",
       "0             1.0       0.942356"
      ]
     },
     "execution_count": 58,
     "metadata": {},
     "output_type": "execute_result"
    }
   ],
   "source": [
    "tree_scores = pd.DataFrame({'Training score':trainscore_tree,'Testing score':testscore_tree},index=[0])\n",
    "tree_scores"
   ]
  },
  {
   "cell_type": "markdown",
   "metadata": {},
   "source": [
    "# Our decition tree model is overfitting"
   ]
  },
  {
   "cell_type": "code",
   "execution_count": null,
   "metadata": {},
   "outputs": [],
   "source": [
    "#"
   ]
  },
  {
   "cell_type": "code",
   "execution_count": null,
   "metadata": {},
   "outputs": [],
   "source": [
    "# "
   ]
  }
 ],
 "metadata": {
  "kernelspec": {
   "display_name": "Python conda_env",
   "language": "python",
   "name": "conda_env"
  },
  "language_info": {
   "codemirror_mode": {
    "name": "ipython",
    "version": 3
   },
   "file_extension": ".py",
   "mimetype": "text/x-python",
   "name": "python",
   "nbconvert_exporter": "python",
   "pygments_lexer": "ipython3",
   "version": "3.8.5"
  }
 },
 "nbformat": 4,
 "nbformat_minor": 4
}
